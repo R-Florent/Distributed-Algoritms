{
 "cells": [
  {
   "metadata": {},
   "cell_type": "markdown",
   "source": [
    "# **Kaczmarz Algorithm**\n",
    "\n",
    "The Kaczmarz algorithm is an iterative method for solving systems of linear equations of the form:\n",
    "\n",
    "$$\n",
    "Ax = b\n",
    "$$\n",
    "\n",
    "Where:\n",
    "- \\(A\\) is a matrix of size \\(m \\times n\\),\n",
    "- \\(x\\) is the vector of unknowns,\n",
    "- \\(b\\) is the vector of results.\n",
    "\n",
    "### **Mathematical Method**\n",
    "\n",
    "Given a current estimate \\(x_k\\), the update for the next iteration \\(x_{k+1}\\) is calculated by projecting the current solution onto the hyperplane defined by the \\(i\\)-th row \\(a_i\\) of matrix \\(A\\). The update formula is:\n",
    "\n",
    "$$\n",
    "x_{k+1} = x_k + \\frac{b_i - a_i^T x_k}{\\|a_i\\|^2} a_i\n",
    "$$\n",
    "\n",
    "Where:\n",
    "- \\(a_i\\) is the \\(i\\)-th row of the matrix \\(A\\),\n",
    "- \\(b_i\\) is the corresponding element of vector \\(b\\),\n",
    "$$ \\|a_i\\|^2\\ $$ \n",
    "-  is the squared norm of \\(a_i\\),\n",
    "- \\(x_k\\) is the current estimate of the solution.\n",
    "\n",
    "This formula is applied iteratively for each row of \\(A\\) until convergence.\n",
    "\n",
    "### **Algorithm Explanation**:\n",
    "\n",
    "At each iteration \\(k\\), the current estimate \\(x_k\\) is projected onto the hyperplane defined by the equation:\n",
    "\n",
    "$$\n",
    "a_i^T x = b_i\n",
    "$$\n",
    "\n",
    "The projection step is:\n",
    "\n",
    "$$\n",
    "x_{k+1} = x_k + \\frac{b_i - a_i^T x_k}{\\|a_i\\|^2} a_i\n",
    "$$\n",
    "\n",
    "This process repeats for each row \\(a_i\\) of the matrix \\(A\\), updating the vector \\(x\\) until the solution converges. The stopping criterion is based on either a tolerance (a small enough difference between \\(x_k\\) and \\(x_{k+1}\\)) or a maximum number of iterations."
   ],
   "id": "4dcbb31ad9a09a49"
  },
  {
   "metadata": {},
   "cell_type": "code",
   "outputs": [],
   "execution_count": null,
   "source": "",
   "id": "8a28511315180479"
  },
  {
   "metadata": {},
   "cell_type": "markdown",
   "source": [
    "# **Begin of Algorithm**\n",
    "need to compute this piece of code to get the value \n",
    "\n",
    "this work for all algortym \n"
   ],
   "id": "73788b3abd191807"
  },
  {
   "metadata": {
    "ExecuteTime": {
     "end_time": "2024-10-08T08:27:23.641955Z",
     "start_time": "2024-10-08T08:27:23.636077Z"
    }
   },
   "cell_type": "code",
   "source": [
    "import numpy as np\n",
    "\n",
    "A = np.array([[1325, 5245, 123],\n",
    "              [5, -44343, -400],\n",
    "              [1, 408, 4]])\n",
    "\n",
    "b = np.array([10, -2, 30])"
   ],
   "id": "66b9d0f930431047",
   "outputs": [],
   "execution_count": 63
  },
  {
   "metadata": {
    "ExecuteTime": {
     "end_time": "2024-10-10T05:58:19.787459Z",
     "start_time": "2024-10-10T05:58:19.095953Z"
    }
   },
   "cell_type": "code",
   "source": [
    "import numpy as np\n",
    "\n",
    "# Matrix A and vector b\n",
    "A = np.array([[4, 1, 2],\n",
    "              [3, 5, 1],\n",
    "              [1, 1, 3]])\n",
    "\n",
    "b = np.array([4, 7, 3])"
   ],
   "id": "418bacf8880284c3",
   "outputs": [],
   "execution_count": 1
  },
  {
   "metadata": {
    "ExecuteTime": {
     "end_time": "2024-10-10T05:58:19.810895Z",
     "start_time": "2024-10-10T05:58:19.801772Z"
    }
   },
   "cell_type": "code",
   "source": [
    "# Random initialization of vector x\n",
    "x = np.random.rand(3)"
   ],
   "id": "9d943bf4697693c9",
   "outputs": [],
   "execution_count": 2
  },
  {
   "metadata": {
    "ExecuteTime": {
     "end_time": "2024-10-10T05:58:19.837146Z",
     "start_time": "2024-10-10T05:58:19.823148Z"
    }
   },
   "cell_type": "code",
   "source": [
    "# Parameters for the algorithm\n",
    "tolerance = 1e-6\n",
    "max_iterations = 10000\n",
    "alpha = 0.9"
   ],
   "id": "55f0cad16968f8ab",
   "outputs": [],
   "execution_count": 3
  },
  {
   "metadata": {},
   "cell_type": "markdown",
   "source": "",
   "id": "494ac45043b190f6"
  },
  {
   "metadata": {},
   "cell_type": "markdown",
   "source": "### **Python Example**:",
   "id": "930d9fd18f6abc59"
  },
  {
   "metadata": {
    "ExecuteTime": {
     "end_time": "2024-10-08T08:54:00.322335Z",
     "start_time": "2024-10-08T08:54:00.308231Z"
    }
   },
   "cell_type": "code",
   "source": [
    "# Kaczmarz algorithm\n",
    "def KacZmarz(A, b, x, tolerance, max_iterations):\n",
    "    for iteration in range(max_iterations):\n",
    "        x_old = x.copy()  # Copy old solution\n",
    "        for i, row in enumerate(A):\n",
    "            dot_product = np.dot(row, x)  # Compute dot product a_i * x\n",
    "            norm_squared = np.dot(row, row)  # Compute ||a_i||^2\n",
    "            x = x + (b[i] - dot_product) / norm_squared * row  # Update x\n",
    "        # Check for convergence\n",
    "        if np.linalg.norm(x - x_old) < tolerance:\n",
    "            print(f\"Converged after {iteration + 1} iterations.\")\n",
    "            break\n",
    "    return x\n",
    "# Run the algorithm\n",
    "result = KacZmarz(A, b, x, tolerance, max_iterations)\n",
    "print(\"Approximate solution:\", result)"
   ],
   "id": "6cc712c847c8c418",
   "outputs": [
    {
     "name": "stdout",
     "output_type": "stream",
     "text": [
      "Converged after 25 iterations.\n",
      "Approximate solution: [0.49999868 1.00000023 0.50000036]\n"
     ]
    }
   ],
   "execution_count": 70
  },
  {
   "metadata": {
    "ExecuteTime": {
     "end_time": "2024-10-08T03:22:06.512696Z",
     "start_time": "2024-10-08T03:22:06.506220Z"
    }
   },
   "cell_type": "code",
   "source": "\n",
   "id": "e862dac03924da7b",
   "outputs": [
    {
     "name": "stdout",
     "output_type": "stream",
     "text": [
      "Converged after 21 iterations.\n",
      "Approximate solution: [0.49999911 0.99999994 0.50000032]\n"
     ]
    }
   ],
   "execution_count": 9
  },
  {
   "metadata": {},
   "cell_type": "markdown",
   "source": "",
   "id": "fa78fcd7a004ea"
  },
  {
   "metadata": {},
   "cell_type": "markdown",
   "source": "",
   "id": "7b0357f640811812"
  },
  {
   "metadata": {},
   "cell_type": "markdown",
   "source": [
    "how i programme it \n",
    "\n",
    "quite disgusting but fonctionnelle "
   ],
   "id": "98fbca058e622893"
  },
  {
   "metadata": {
    "ExecuteTime": {
     "end_time": "2024-10-10T08:10:43.559464Z",
     "start_time": "2024-10-10T08:10:43.524975Z"
    }
   },
   "cell_type": "code",
   "source": [
    "def KacZmarz(matrice_A, matrice_b, inconnue):\n",
    "    for iteration in range(max_iterations):\n",
    "        x_old = inconnue.copy()  # Copie de l'ancienne solution\n",
    "        for indise, equation in enumerate(matrice_A):\n",
    "            transposer_a = 0\n",
    "            norme = 0\n",
    "            for j, element in enumerate(equation):\n",
    "                transposer_a += element * inconnue[j]  # Produit scalaire de la ligne et de x\n",
    "                norme += element * element  # Norme de la ligne\n",
    "\n",
    "            # Mise à jour s²    elon l'algorithme de Kaczmarz\n",
    "            atixi = (matrice_b[indise] - transposer_a) / norme\n",
    "            for j, element in enumerate(equation):\n",
    "                inconnue[j] = inconnue[j] + atixi * element\n",
    "\n",
    "        # Critère de convergence (tolérance)\n",
    "        if np.linalg.norm(np.array(inconnue) - np.array(x_old)) < tolerance:\n",
    "            print(f\"Convergence atteinte après {iteration + 1} loop.\")\n",
    "            break\n",
    "\n",
    "    return inconnue\n",
    "\n",
    "# Exécution de l'algorithme\n",
    "resulte = KacZmarz(A, b, x)\n",
    "\n",
    "print(\"Solution approchée:\", resulte)"
   ],
   "id": "c9d51d5ad418967c",
   "outputs": [
    {
     "name": "stdout",
     "output_type": "stream",
     "text": [
      "Convergence atteinte après 24 loop.\n",
      "Solution approchée: [0.49999951 0.99999987 0.50000021]\n"
     ]
    }
   ],
   "execution_count": 6
  },
  {
   "metadata": {
    "ExecuteTime": {
     "end_time": "2024-10-08T03:22:12.507718Z",
     "start_time": "2024-10-08T03:22:12.500947Z"
    }
   },
   "cell_type": "code",
   "source": "",
   "id": "408d532ad2552812",
   "outputs": [
    {
     "name": "stdout",
     "output_type": "stream",
     "text": [
      "Convergence atteinte après 21 loop.\n",
      "Solution approchée: [0.49999911 0.99999994 0.50000032]\n"
     ]
    }
   ],
   "execution_count": 11
  },
  {
   "metadata": {},
   "cell_type": "markdown",
   "source": "## Algorithme de Gauss-Seidel distribué",
   "id": "221ba26a8df73de9"
  },
  {
   "metadata": {
    "ExecuteTime": {
     "end_time": "2024-10-08T08:51:51.940679Z",
     "start_time": "2024-10-08T08:51:51.914263Z"
    }
   },
   "cell_type": "code",
   "source": [
    "def has_converged(x_new, x_old, tol):\n",
    "    return np.linalg.norm(x_new - x_old) < tol\n",
    "\n",
    "# Algorithme de Gauss-Seidel distribué\n",
    "def distributed_gauss_seidel(A, b, x, tolerance, max_iterations, alpha):\n",
    "    n = len(b)\n",
    "    x_old = np.zeros_like(x)\n",
    "\n",
    "    for iteration in range(max_iterations):\n",
    "        x_old[:] = x  # Sauvegarde de l'état précédent\n",
    "\n",
    "        for i in range(n):  # Chaque agent résout son équation\n",
    "            sum_except_i = np.dot(A[i, :], x) - A[i, i] * x[i]\n",
    "            x[i] = (b[i] - sum_except_i) / A[i, i]\n",
    "\n",
    "        # Appliquer le facteur de relaxation\n",
    "        x = alpha * x + (1 - alpha) * x_old\n",
    "\n",
    "        # Vérifier la convergence\n",
    "        if has_converged(x, x_old, tolerance):\n",
    "            print(f\"Converged after {iteration + 1} iterations.\")\n",
    "            break\n",
    "\n",
    "    return x\n",
    "\n",
    "# Exécution de l'algorithme\n",
    "x_solution = distributed_gauss_seidel(A, b, x, tolerance, max_iterations, alpha)\n",
    "print(\"Solution trouvée : \", x_solution)\n",
    "\n",
    "# Vérification en multipliant la solution avec A\n",
    "print(\"Vérification : A * x =\", np.dot(A, x_solution))\n"
   ],
   "id": "c9d0bfc27bd85300",
   "outputs": [
    {
     "name": "stdout",
     "output_type": "stream",
     "text": [
      "Converged after 235 iterations.\n",
      "Solution trouvée :  [ -6.57813319  -1.04112436 115.33921791]\n",
      "Vérification : A * x = [10.00006885 -2.00038078 30.        ]\n"
     ]
    }
   ],
   "execution_count": 68
  },
  {
   "metadata": {
    "ExecuteTime": {
     "end_time": "2024-10-08T08:51:44.805696Z",
     "start_time": "2024-10-08T08:51:44.748536Z"
    }
   },
   "cell_type": "code",
   "source": [
    "n_agents = 3              # 3 agents\n",
    "\n",
    "# Initialisation des solutions locales aléatoires pour chaque agent\n",
    "x_local = [np.random.rand(3) for _ in range(n_agents)]\n",
    "x_global = np.zeros(3)\n",
    "\n",
    "# Facteur de relaxation et nombre d'itérations\n",
    "alpha = 1.0\n",
    "num_iterations = 100\n",
    "\n",
    "# Voisinage des agents (ici tout le monde est voisin)\n",
    "neighbors = {0: [1, 2], 1: [0, 2], 2: [0, 1]}\n",
    "\n",
    "# Algorithme de Kaczmarz décentralisé\n",
    "for k in range(num_iterations):\n",
    "    x_new_local = []\n",
    "    \n",
    "    # Mise à jour de chaque agent\n",
    "    for i in range(n_agents):\n",
    "        a_i = A[i, :]  # Vecteur d'équation pour l'agent i\n",
    "        b_i = b[i]     # Valeur de b pour l'agent i\n",
    "        \n",
    "        # Mise à jour selon Kaczmarz\n",
    "        x_local[i] = x_local[i] + alpha * (b_i - np.dot(a_i, x_local[i])) / np.dot(a_i, a_i) * a_i\n",
    "        \n",
    "        # Communication : chaque agent reçoit les estimations de ses voisins\n",
    "        neighbors_estimates = [x_local[j] for j in neighbors[i]]\n",
    "        \n",
    "        # Moyenne avec les voisins\n",
    "        x_local[i] = (x_local[i] + sum(neighbors_estimates)) / (len(neighbors[i]) + 1)\n",
    "    \n",
    "    # Affichage de l'estimation après chaque itération\n",
    "    print(f\"Iteration {k+1}, estimations locales : {x_local}\")\n",
    "\n",
    "# Les solutions finales pour chaque agent convergeront vers la solution globale\n"
   ],
   "id": "e0bc201b1b995ae7",
   "outputs": [
    {
     "name": "stdout",
     "output_type": "stream",
     "text": [
      "Iteration 1, estimations locales : [array([0.47471647, 0.2902997 , 0.25855972]), array([0.41398306, 0.40049481, 0.26540505]), array([0.31831499, 0.25321532, 0.32818475])]\n",
      "Iteration 2, estimations locales : [array([0.36955459, 0.18489642, 0.28100653]), array([0.36729935, 0.14528073, 0.29032105]), array([0.35157292, 0.13324255, 0.29923723])]\n",
      "Iteration 3, estimations locales : [array([0.34042445, 0.06586439, 0.28811032]), array([0.35310446, 0.06552887, 0.29211178]), array([0.3483154 , 0.06704459, 0.29294559])]\n",
      "Iteration 4, estimations locales : [array([0.33488314, 0.01706741, 0.28990496]), array([0.34543689, 0.02718915, 0.29144942]), array([0.34288073, 0.03801999, 0.29144234])]\n",
      "Iteration 5, estimations locales : [array([ 0.33263661, -0.00594581,  0.29014965]), array([0.34031919, 0.00984387, 0.29092441]), array([0.33863816, 0.02457552, 0.29094275])]\n",
      "Iteration 6, estimations locales : [array([ 0.3306328 , -0.01649703,  0.29006282]), array([0.33653052, 0.00184622, 0.29060609]), array([0.33530414, 0.0183972 , 0.29068515])]\n",
      "Iteration 7, estimations locales : [array([ 0.3284656 , -0.02127588,  0.28992313]), array([ 0.33343359, -0.00180557,  0.29039161]), array([0.33244315, 0.01559034, 0.29050145])]\n",
      "Iteration 8, estimations locales : [array([ 0.32617888, -0.02335261,  0.28978298]), array([ 0.33068523, -0.003433  ,  0.29022315]), array([0.32981343, 0.01435846, 0.29034655])]\n",
      "Iteration 9, estimations locales : [array([ 0.32383421, -0.02416563,  0.289648  ]), array([ 0.32811092, -0.00411428,  0.29007526]), array([0.3272982 , 0.01386298, 0.29020468])]\n",
      "Iteration 10, estimations locales : [array([ 0.32146757, -0.02438779,  0.28951676]), array([ 0.32562551, -0.00435316,  0.28993698]), array([0.32484286, 0.0137118 , 0.29006919])]\n",
      "Iteration 11, estimations locales : [array([ 0.31909689, -0.02433409,  0.2893878 ]), array([ 0.32318835, -0.00438534,  0.28980346]), array([0.32242193, 0.01372142, 0.28993705])]\n",
      "Iteration 12, estimations locales : [array([ 0.31673068, -0.02415202,  0.28926029]), array([ 0.32078025, -0.00432114,  0.28967251]), array([0.32002351, 0.01380592, 0.28980684])]\n",
      "Iteration 13, estimations locales : [array([ 0.31437289, -0.02391065,  0.28913381]), array([ 0.31839215, -0.00421221,  0.2895431 ]), array([0.31764201, 0.01392507, 0.28967789])]\n",
      "Iteration 14, estimations locales : [array([ 0.31202535, -0.02364229,  0.28900815]), array([ 0.31601977, -0.00408273,  0.28941477]), array([0.31527478, 0.01406005, 0.28954988])]\n",
      "Iteration 15, estimations locales : [array([ 0.30968889, -0.02336208,  0.28888322]), array([ 0.31366109, -0.00394403,  0.28928729]), array([0.31292055, 0.01420205, 0.28942265])]\n",
      "Iteration 16, estimations locales : [array([ 0.30736386, -0.0230771 ,  0.28875898]), array([ 0.31131511, -0.00380141,  0.28916056]), array([0.3105787 , 0.01434692, 0.28929615])]\n",
      "Iteration 17, estimations locales : [array([ 0.30505039, -0.02279066,  0.28863539]), array([ 0.30898135, -0.00365735,  0.28903453]), array([0.30824889, 0.01449276, 0.28917032])]\n",
      "Iteration 18, estimations locales : [array([ 0.30274852, -0.02250432,  0.28851245]), array([ 0.30665955, -0.00351299,  0.28890917]), array([0.30593095, 0.01463864, 0.28904516])]\n",
      "Iteration 19, estimations locales : [array([ 0.30045823, -0.02221879,  0.28839016]), array([ 0.30434954, -0.00336889,  0.28878446]), array([0.30362475, 0.01478416, 0.28892065])]\n",
      "Iteration 20, estimations locales : [array([ 0.29817947, -0.0219344 ,  0.28826849]), array([ 0.30205122, -0.0032253 ,  0.2886604 ]), array([0.30133022, 0.01492912, 0.28879678])]\n",
      "Iteration 21, estimations locales : [array([ 0.2959122 , -0.0216513 ,  0.28814746]), array([ 0.29976452, -0.00308232,  0.28853699]), array([0.29904727, 0.01507342, 0.28867356])]\n",
      "Iteration 22, estimations locales : [array([ 0.29365637, -0.02136957,  0.28802705]), array([ 0.29748937, -0.00294002,  0.28841421]), array([0.29677585, 0.01521704, 0.28855098])]\n",
      "Iteration 23, estimations locales : [array([ 0.29141193, -0.02108923,  0.28790726]), array([ 0.2952257 , -0.00279842,  0.28829207]), array([0.29451589, 0.01535995, 0.28842902])]\n",
      "Iteration 24, estimations locales : [array([ 0.2891788 , -0.0208103 ,  0.28778809]), array([ 0.29297345, -0.00265751,  0.28817056]), array([0.29226733, 0.01550215, 0.2883077 ])]\n",
      "Iteration 25, estimations locales : [array([ 0.28695694, -0.02053276,  0.28766954]), array([ 0.29073257, -0.00251732,  0.28804968]), array([0.29003012, 0.01564363, 0.28818701])]\n",
      "Iteration 26, estimations locales : [array([ 0.2847463 , -0.02025662,  0.2875516 ]), array([ 0.288503  , -0.00237783,  0.28792942]), array([0.28780421, 0.0157844 , 0.28806694])]\n",
      "Iteration 27, estimations locales : [array([ 0.28254681, -0.01998187,  0.28743427]), array([ 0.28628468, -0.00223904,  0.28780978]), array([0.28558952, 0.01592446, 0.28794749])]\n",
      "Iteration 28, estimations locales : [array([ 0.28035841, -0.01970851,  0.28731755]), array([ 0.28407755, -0.00210095,  0.28769077]), array([0.28338601, 0.01606381, 0.28782866])]\n",
      "Iteration 29, estimations locales : [array([ 0.27818106, -0.01943653,  0.28720143]), array([ 0.28188155, -0.00196356,  0.28757236]), array([0.28119361, 0.01620246, 0.28771044])]\n",
      "Iteration 30, estimations locales : [array([ 0.2760147 , -0.01916592,  0.28708592]), array([ 0.27969664, -0.00182686,  0.28745458]), array([0.27901228, 0.01634041, 0.28759283])]\n",
      "Iteration 31, estimations locales : [array([ 0.27385926, -0.01889667,  0.286971  ]), array([ 0.27752275, -0.00169086,  0.2873374 ]), array([0.27684195, 0.01647767, 0.28747583])]\n",
      "Iteration 32, estimations locales : [array([ 0.2717147 , -0.01862879,  0.28685667]), array([ 0.27535983, -0.00155554,  0.28722082]), array([0.27468258, 0.01661423, 0.28735944])]\n",
      "Iteration 33, estimations locales : [array([ 0.26958097, -0.01836225,  0.28674294]), array([ 0.27320783, -0.0014209 ,  0.28710485]), array([0.2725341 , 0.0167501 , 0.28724365])]\n",
      "Iteration 34, estimations locales : [array([ 0.26745799, -0.01809706,  0.2866298 ]), array([ 0.27106668, -0.00128694,  0.28698948]), array([0.27039646, 0.01688529, 0.28712846])]\n",
      "Iteration 35, estimations locales : [array([ 0.26534574, -0.01783321,  0.28651724]), array([ 0.26893634, -0.00115366,  0.28687471]), array([0.26826961, 0.0170198 , 0.28701386])]\n",
      "Iteration 36, estimations locales : [array([ 0.26324414, -0.0175707 ,  0.28640526]), array([ 0.26681675, -0.00102105,  0.28676053]), array([0.26615349, 0.01715362, 0.28689986])]\n",
      "Iteration 37, estimations locales : [array([ 0.26115314, -0.0173095 ,  0.28629387]), array([ 0.26470785, -0.00088911,  0.28664694]), array([0.26404805, 0.01728677, 0.28678645])]\n",
      "Iteration 38, estimations locales : [array([ 0.25907269, -0.01704963,  0.28618305]), array([ 0.26260959, -0.00075783,  0.28653394]), array([0.26195323, 0.01741925, 0.28667362])]\n",
      "Iteration 39, estimations locales : [array([ 0.25700274, -0.01679106,  0.28607281]), array([ 0.26052192, -0.00062722,  0.28642152]), array([0.25986898, 0.01755106, 0.28656138])]\n",
      "Iteration 40, estimations locales : [array([ 0.25494324, -0.0165338 ,  0.28596313]), array([ 0.25844478, -0.00049727,  0.28630969]), array([0.25779525, 0.01768221, 0.28644972])]\n",
      "Iteration 41, estimations locales : [array([ 0.25289413, -0.01627784,  0.28585403]), array([ 0.25637813, -0.00036797,  0.28619843]), array([0.25573198, 0.01781269, 0.28633864])]\n",
      "Iteration 42, estimations locales : [array([ 0.25085535, -0.01602317,  0.28574549]), array([ 2.54321902e-01, -2.39325106e-04,  2.86087753e-01]), array([0.25367912, 0.01794251, 0.28622813])]\n",
      "Iteration 43, estimations locales : [array([ 0.24882687, -0.01576979,  0.28563751]), array([ 2.52276050e-01, -1.11330087e-04,  2.85977648e-01]), array([0.25163662, 0.01807168, 0.2861182 ])]\n",
      "Iteration 44, estimations locales : [array([ 0.24680862, -0.01551768,  0.28553009]), array([2.50240520e-01, 1.60189096e-05, 2.85868114e-01]), array([0.24960443, 0.0182002 , 0.28600884])]\n",
      "Iteration 45, estimations locales : [array([ 0.24480055, -0.01526685,  0.28542323]), array([2.48215262e-01, 1.42725144e-04, 2.85759147e-01]), array([0.24758249, 0.01832807, 0.28590004])]\n",
      "Iteration 46, estimations locales : [array([ 0.24280262, -0.01501728,  0.28531693]), array([2.46200222e-01, 2.68791860e-04, 2.85650744e-01]), array([0.24557075, 0.01845529, 0.28579181])]\n",
      "Iteration 47, estimations locales : [array([ 0.24081476, -0.01476897,  0.28521117]), array([0.24419535, 0.00039422, 0.2855429 ]), array([0.24356917, 0.01858187, 0.28568413])]\n",
      "Iteration 48, estimations locales : [array([ 0.23883694, -0.01452192,  0.28510596]), array([0.24220059, 0.00051902, 0.28543562]), array([0.24157768, 0.01870781, 0.28557702])]\n",
      "Iteration 49, estimations locales : [array([ 0.2368691 , -0.01427611,  0.2850013 ]), array([0.2402159 , 0.00064319, 0.2853289 ]), array([0.23959624, 0.01883312, 0.28547046])]\n",
      "Iteration 50, estimations locales : [array([ 0.23491118, -0.01403155,  0.28489718]), array([0.23824123, 0.00076673, 0.28522273]), array([0.2376248 , 0.01895779, 0.28536445])]\n",
      "Iteration 51, estimations locales : [array([ 0.23296315, -0.01378821,  0.28479361]), array([0.23627651, 0.00088965, 0.2851171 ]), array([0.2356633 , 0.01908184, 0.285259  ])]\n",
      "Iteration 52, estimations locales : [array([ 0.23102494, -0.01354611,  0.28469057]), array([0.23432171, 0.00101194, 0.28501203]), array([0.23371171, 0.01920526, 0.28515409])]\n",
      "Iteration 53, estimations locales : [array([ 0.22909651, -0.01330523,  0.28458806]), array([0.23237678, 0.00113362, 0.2849075 ]), array([0.23176996, 0.01932805, 0.28504972])]\n",
      "Iteration 54, estimations locales : [array([ 0.22717782, -0.01306556,  0.28448609]), array([0.23044165, 0.00125469, 0.28480352]), array([0.22983801, 0.01945023, 0.2849459 ])]\n",
      "Iteration 55, estimations locales : [array([ 0.2252688 , -0.0128271 ,  0.28438464]), array([0.2285163 , 0.00137514, 0.28470007]), array([0.2279158 , 0.01957179, 0.28484261])]\n",
      "Iteration 56, estimations locales : [array([ 0.22336942, -0.01258985,  0.28428373]), array([0.22660065, 0.00149499, 0.28459716]), array([0.2260033 , 0.01969273, 0.28473986])]\n",
      "Iteration 57, estimations locales : [array([ 0.22147962, -0.01235379,  0.28418333]), array([0.22469467, 0.00161423, 0.28449478]), array([0.22410045, 0.01981307, 0.28463765])]\n",
      "Iteration 58, estimations locales : [array([ 0.21959936, -0.01211892,  0.28408346]), array([0.22279831, 0.00173287, 0.28439294]), array([0.22220719, 0.01993279, 0.28453596])]\n",
      "Iteration 59, estimations locales : [array([ 0.21772858, -0.01188524,  0.28398411]), array([0.22091152, 0.00185091, 0.28429162]), array([0.22032349, 0.02005192, 0.2844348 ])]\n",
      "Iteration 60, estimations locales : [array([ 0.21586725, -0.01165274,  0.28388527]), array([0.21903425, 0.00196835, 0.28419083]), array([0.2184493 , 0.02017044, 0.28433417])]\n",
      "Iteration 61, estimations locales : [array([ 0.2140153 , -0.01142141,  0.28378695]), array([0.21716645, 0.00208521, 0.28409057]), array([0.21658456, 0.02028836, 0.28423406])]\n",
      "Iteration 62, estimations locales : [array([ 0.2121727 , -0.01119125,  0.28368913]), array([0.21530808, 0.00220147, 0.28399082]), array([0.21472923, 0.02040569, 0.28413447])]\n",
      "Iteration 63, estimations locales : [array([ 0.2103394 , -0.01096226,  0.28359183]), array([0.21345908, 0.00231714, 0.2838916 ]), array([0.21288326, 0.02052243, 0.2840354 ])]\n",
      "Iteration 64, estimations locales : [array([ 0.20851535, -0.01073441,  0.28349503]), array([0.21161941, 0.00243224, 0.28379288]), array([0.2110466 , 0.02063858, 0.28393684])]\n",
      "Iteration 65, estimations locales : [array([ 0.2067005 , -0.01050772,  0.28339874]), array([0.20978902, 0.00254675, 0.28369469]), array([0.20921922, 0.02075414, 0.2838388 ])]\n",
      "Iteration 66, estimations locales : [array([ 0.2048948 , -0.01028217,  0.28330294]), array([0.20796787, 0.00266068, 0.283597  ]), array([0.20740105, 0.02086911, 0.28374126])]\n",
      "Iteration 67, estimations locales : [array([ 0.20309822, -0.01005776,  0.28320765]), array([0.20615591, 0.00277404, 0.28349982]), array([0.20559206, 0.02098351, 0.28364423])]\n",
      "Iteration 68, estimations locales : [array([ 0.20131071, -0.00983448,  0.28311285]), array([0.20435309, 0.00288682, 0.28340314]), array([0.20379219, 0.02109733, 0.28354771])]\n",
      "Iteration 69, estimations locales : [array([ 0.19953221, -0.00961233,  0.28301854]), array([0.20255937, 0.00299904, 0.28330697]), array([0.20200141, 0.02121058, 0.28345169])]\n",
      "Iteration 70, estimations locales : [array([ 0.19776269, -0.0093913 ,  0.28292472]), array([0.20077469, 0.00311069, 0.2832113 ]), array([0.20021966, 0.02132325, 0.28335616])]\n",
      "Iteration 71, estimations locales : [array([ 0.19600209, -0.00917139,  0.2828314 ]), array([0.19899903, 0.00322178, 0.28311612]), array([0.19844691, 0.02143536, 0.28326114])]\n",
      "Iteration 72, estimations locales : [array([ 0.19425038, -0.00895258,  0.28273855]), array([0.19723232, 0.0033323 , 0.28302144]), array([0.19668309, 0.0215469 , 0.28316661])]\n",
      "Iteration 73, estimations locales : [array([ 0.19250751, -0.00873488,  0.2826462 ]), array([0.19547453, 0.00344227, 0.28292726]), array([0.19492818, 0.02165787, 0.28307257])]\n",
      "Iteration 74, estimations locales : [array([ 0.19077343, -0.00851828,  0.28255432]), array([0.1937256 , 0.00355168, 0.28283356]), array([0.19318212, 0.02176829, 0.28297901])]\n",
      "Iteration 75, estimations locales : [array([ 0.1890481 , -0.00830277,  0.28246292]), array([0.1919855 , 0.00366054, 0.28274035]), array([0.19144487, 0.02187815, 0.28288595])]\n",
      "Iteration 76, estimations locales : [array([ 0.18733148, -0.00808835,  0.28237199]), array([0.19025418, 0.00376885, 0.28264762]), array([0.18971639, 0.02198745, 0.28279337])]\n",
      "Iteration 77, estimations locales : [array([ 0.18562352, -0.00787501,  0.28228154]), array([0.1885316 , 0.00387662, 0.28255538]), array([0.18799663, 0.0220962 , 0.28270127])]\n",
      "Iteration 78, estimations locales : [array([ 0.18392417, -0.00766275,  0.28219157]), array([0.18681771, 0.00398384, 0.28246362]), array([0.18628555, 0.02220441, 0.28260966])]\n",
      "Iteration 79, estimations locales : [array([ 0.18223341, -0.00745156,  0.28210206]), array([0.18511246, 0.00409052, 0.28237234]), array([0.1845831 , 0.02231207, 0.28251852])]\n",
      "Iteration 80, estimations locales : [array([ 0.18055117, -0.00724143,  0.28201301]), array([0.18341582, 0.00419666, 0.28228153]), array([0.18288924, 0.02241918, 0.28242785])]\n",
      "Iteration 81, estimations locales : [array([ 0.17887742, -0.00703237,  0.28192443]), array([0.18172774, 0.00430226, 0.2821912 ]), array([0.18120392, 0.02252575, 0.28233766])]\n",
      "Iteration 82, estimations locales : [array([ 0.17721211, -0.00682436,  0.28183632]), array([0.18004818, 0.00440734, 0.28210133]), array([0.17952711, 0.02263179, 0.28224793])]\n",
      "Iteration 83, estimations locales : [array([ 0.17555521, -0.0066174 ,  0.28174866]), array([0.17837709, 0.00451188, 0.28201194]), array([0.17785876, 0.02273729, 0.28215868])]\n",
      "Iteration 84, estimations locales : [array([ 0.17390667, -0.00641148,  0.28166146]), array([0.17671444, 0.00461589, 0.28192301]), array([0.17619883, 0.02284226, 0.28206989])]\n",
      "Iteration 85, estimations locales : [array([ 0.17226644, -0.00620661,  0.28157471]), array([0.17506017, 0.00471938, 0.28183454]), array([0.17454728, 0.02294669, 0.28198156])]\n",
      "Iteration 86, estimations locales : [array([ 0.17063449, -0.00600277,  0.28148842]), array([0.17341425, 0.00482235, 0.28174653]), array([0.17290405, 0.02305061, 0.28189369])]\n",
      "Iteration 87, estimations locales : [array([ 0.16901078, -0.00579995,  0.28140258]), array([0.17177664, 0.00492479, 0.28165899]), array([0.17126912, 0.02315399, 0.28180628])]\n",
      "Iteration 88, estimations locales : [array([ 0.16739526, -0.00559816,  0.28131718]), array([0.17014728, 0.00502672, 0.2815719 ]), array([0.16964244, 0.02325686, 0.28171933])]\n",
      "Iteration 89, estimations locales : [array([ 0.16578789, -0.00539739,  0.28123223]), array([0.16852615, 0.00512814, 0.28148526]), array([0.16802397, 0.0233592 , 0.28163283])]\n",
      "Iteration 90, estimations locales : [array([ 0.16418863, -0.00519763,  0.28114773]), array([0.1669132 , 0.00522904, 0.28139908]), array([0.16641366, 0.02346103, 0.28154678])]\n",
      "Iteration 91, estimations locales : [array([ 0.16259744, -0.00499888,  0.28106366]), array([0.16530839, 0.00532944, 0.28131335]), array([0.16481148, 0.02356235, 0.28146118])]\n",
      "Iteration 92, estimations locales : [array([ 0.16101428, -0.00480114,  0.28098004]), array([0.16371167, 0.00542932, 0.28122806]), array([0.16321738, 0.02366315, 0.28137603])]\n",
      "Iteration 93, estimations locales : [array([ 0.1594391 , -0.00460439,  0.28089685]), array([0.16212301, 0.00552871, 0.28114322]), array([0.16163132, 0.02376344, 0.28129132])]\n",
      "Iteration 94, estimations locales : [array([ 0.15787188, -0.00440863,  0.28081409]), array([0.16054237, 0.00562759, 0.28105882]), array([0.16005327, 0.02386323, 0.28120706])]\n",
      "Iteration 95, estimations locales : [array([ 0.15631256, -0.00421386,  0.28073177]), array([0.1589697 , 0.00572597, 0.28097486]), array([0.15848318, 0.02396252, 0.28112323])]\n",
      "Iteration 96, estimations locales : [array([ 0.15476111, -0.00402008,  0.28064988]), array([0.15740497, 0.00582386, 0.28089134]), array([0.15692101, 0.0240613 , 0.28103984])]\n",
      "Iteration 97, estimations locales : [array([ 0.15321749, -0.00382727,  0.28056842]), array([0.15584813, 0.00592125, 0.28080826]), array([0.15536672, 0.02415958, 0.28095689])]\n",
      "Iteration 98, estimations locales : [array([ 0.15168165, -0.00363544,  0.28048738]), array([0.15429915, 0.00601815, 0.28072561]), array([0.15382028, 0.02425737, 0.28087437])]\n",
      "Iteration 99, estimations locales : [array([ 0.15015357, -0.00344457,  0.28040677]), array([0.15275798, 0.00611456, 0.2806434 ]), array([0.15228164, 0.02435467, 0.28079229])]\n",
      "Iteration 100, estimations locales : [array([ 0.14863319, -0.00325467,  0.28032657]), array([0.15122459, 0.00621048, 0.28056161]), array([0.15075076, 0.02445147, 0.28071063])]\n"
     ]
    }
   ],
   "execution_count": 67
  },
  {
   "metadata": {
    "ExecuteTime": {
     "end_time": "2024-10-08T05:21:09.162227Z",
     "start_time": "2024-10-08T05:21:09.147886Z"
    }
   },
   "cell_type": "code",
   "source": "",
   "id": "f2b16f1458aa38d9",
   "outputs": [
    {
     "name": "stdout",
     "output_type": "stream",
     "text": [
      "24 回のループで収束しました。\n",
      "近似解: [0.49999943 0.99999987 0.50000023]\n"
     ]
    }
   ],
   "execution_count": 31
  },
  {
   "metadata": {},
   "cell_type": "code",
   "source": [
    "import numpy as np\n",
    "\n",
    "# Fonction qui retourne une liste de 3 floats (x, y, z)\n",
    "def ma_fonction():\n",
    "    # Exemples de valeurs retournées (en vrai, c'est ta fonction qui génère ces valeurs)\n",
    "    x = np.random.random()  # Par exemple, un nombre flottant aléatoire\n",
    "    y = np.random.random()\n",
    "    z = np.random.random()\n",
    "    return [x, y, z]\n",
    "\n",
    "# Nombre de fois que la fonction doit être exécutée\n",
    "n = 5  # Remplace par ton propre 'x' (nombre d'exécutions)\n",
    "\n",
    "# Initialisation d'une liste pour stocker les résultats\n",
    "resultats = []\n",
    "\n",
    "# Exécuter la fonction n fois et stocker les résultats\n",
    "for _ in range(n):\n",
    "    resultats.append(ma_fonction())\n",
    "\n",
    "# Convertir la liste en un tableau NumPy pour calculer facilement les moyennes\n",
    "resultats_array = np.array(resultats)\n",
    "\n",
    "# Calculer la moyenne pour chaque colonne (x, y, z)\n",
    "moyennes = np.mean(resultats_array, axis=0)\n",
    "\n",
    "# Afficher les moyennes pour x, y et z\n",
    "print(f\"Moyenne de x : {moyennes[0]}\")\n",
    "print(f\"Moyenne de y : {moyennes[1]}\")\n",
    "print(f\"Moyenne de z : {moyennes[2]}\")\n"
   ],
   "id": "98d99c23882101f4",
   "outputs": [
    {
     "name": "stdout",
     "output_type": "stream",
     "text": [
      "Moyenne de x : 0.553365452878338\n",
      "Moyenne de y : 0.33831051467814544\n",
      "Moyenne de z : 0.48124930384667863\n"
     ]
    }
   ],
   "execution_count": 7
  }
 ],
 "metadata": {
  "kernelspec": {
   "display_name": "Python 3",
   "language": "python",
   "name": "python3"
  },
  "language_info": {
   "codemirror_mode": {
    "name": "ipython",
    "version": 2
   },
   "file_extension": ".py",
   "mimetype": "text/x-python",
   "name": "python",
   "nbconvert_exporter": "python",
   "pygments_lexer": "ipython2",
   "version": "2.7.6"
  }
 },
 "nbformat": 4,
 "nbformat_minor": 5
}
