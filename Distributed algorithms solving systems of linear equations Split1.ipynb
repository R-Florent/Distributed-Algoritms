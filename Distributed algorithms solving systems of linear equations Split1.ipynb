{
 "cells": [
  {
   "metadata": {},
   "cell_type": "markdown",
   "source": [
    "# **Kaczmarz Algorithm**\n",
    "\n",
    "The Kaczmarz algorithm is an iterative method for solving systems of linear equations of the form:\n",
    "\n",
    "$$\n",
    "Ax = b\n",
    "$$\n",
    "\n",
    "Where:\n",
    "- \\(A\\) is a matrix of size \\(m \\times n\\),\n",
    "- \\(x\\) is the vector of unknowns,\n",
    "- \\(b\\) is the vector of results.\n",
    "\n",
    "### **Mathematical Method**\n",
    "\n",
    "Given a current estimate \\(x_k\\), the update for the next iteration \\(x_{k+1}\\) is calculated by projecting the current solution onto the hyperplane defined by the \\(i\\)-th row \\(a_i\\) of matrix \\(A\\). The update formula is:\n",
    "\n",
    "$$\n",
    "x_{k+1} = x_k + \\frac{b_i - a_i^T x_k}{\\|a_i\\|^2} a_i\n",
    "$$\n",
    "\n",
    "Where:\n",
    "- \\(a_i\\) is the \\(i\\)-th row of the matrix \\(A\\),\n",
    "- \\(b_i\\) is the corresponding element of vector \\(b\\),\n",
    "$$ \\|a_i\\|^2\\ $$ \n",
    "-  is the squared norm of \\(a_i\\),\n",
    "- \\(x_k\\) is the current estimate of the solution.\n",
    "\n",
    "This formula is applied iteratively for each row of \\(A\\) until convergence.\n",
    "\n",
    "### **Algorithm Explanation**:\n",
    "\n",
    "At each iteration \\(k\\), the current estimate \\(x_k\\) is projected onto the hyperplane defined by the equation:\n",
    "\n",
    "$$\n",
    "a_i^T x = b_i\n",
    "$$\n",
    "\n",
    "The projection step is:\n",
    "\n",
    "$$\n",
    "x_{k+1} = x_k + \\frac{b_i - a_i^T x_k}{\\|a_i\\|^2} a_i\n",
    "$$\n",
    "\n",
    "This process repeats for each row \\(a_i\\) of the matrix \\(A\\), updating the vector \\(x\\) until the solution converges. The stopping criterion is based on either a tolerance (a small enough difference between \\(x_k\\) and \\(x_{k+1}\\)) or a maximum number of iterations."
   ],
   "id": "4dcbb31ad9a09a49"
  },
  {
   "metadata": {},
   "cell_type": "code",
   "outputs": [],
   "execution_count": null,
   "source": "",
   "id": "8a28511315180479"
  },
  {
   "metadata": {},
   "cell_type": "markdown",
   "source": [
    "# **Begin of Algorithm**\n",
    "need to compute this piece of code to get the value \n",
    "\n",
    "this work for all algortym \n"
   ],
   "id": "73788b3abd191807"
  },
  {
   "metadata": {
    "ExecuteTime": {
     "end_time": "2024-10-22T03:09:41.263144Z",
     "start_time": "2024-10-22T03:09:40.334256Z"
    }
   },
   "cell_type": "code",
   "source": [
    "import numpy as np\n",
    "\n",
    "A = np.array([[1325, 5245, 123],\n",
    "              [5, -44343, -400],\n",
    "              [1, 408, 4]])\n",
    "\n",
    "b = np.array([10, -2, 30])"
   ],
   "id": "66b9d0f930431047",
   "outputs": [],
   "execution_count": 2
  },
  {
   "metadata": {
    "ExecuteTime": {
     "end_time": "2024-10-22T03:09:41.594026Z",
     "start_time": "2024-10-22T03:09:41.584307Z"
    }
   },
   "cell_type": "code",
   "source": [
    "import numpy as np\n",
    "\n",
    "# Matrix A and vector b\n",
    "A = np.array([[4, 1, 2],\n",
    "              [3, 5, 1],\n",
    "              [1, 1, 3]])\n",
    "\n",
    "b = np.array([4, 7, 3])"
   ],
   "id": "418bacf8880284c3",
   "outputs": [],
   "execution_count": 3
  },
  {
   "metadata": {
    "ExecuteTime": {
     "end_time": "2024-10-22T03:09:42.997560Z",
     "start_time": "2024-10-22T03:09:42.989151Z"
    }
   },
   "cell_type": "code",
   "source": [
    "# Random initialization of vector x\n",
    "x = np.random.rand(3)"
   ],
   "id": "9d943bf4697693c9",
   "outputs": [],
   "execution_count": 4
  },
  {
   "metadata": {
    "ExecuteTime": {
     "end_time": "2024-10-22T03:09:44.298233Z",
     "start_time": "2024-10-22T03:09:44.292625Z"
    }
   },
   "cell_type": "code",
   "source": [
    "# Parameters for the algorithm\n",
    "tolerance = 1e-6\n",
    "max_iterations = 10000\n",
    "alpha = 0.9"
   ],
   "id": "55f0cad16968f8ab",
   "outputs": [],
   "execution_count": 5
  },
  {
   "metadata": {},
   "cell_type": "markdown",
   "source": "",
   "id": "494ac45043b190f6"
  },
  {
   "metadata": {},
   "cell_type": "markdown",
   "source": "### **Python Example**:",
   "id": "930d9fd18f6abc59"
  },
  {
   "metadata": {
    "ExecuteTime": {
     "end_time": "2024-10-08T08:54:00.322335Z",
     "start_time": "2024-10-08T08:54:00.308231Z"
    }
   },
   "cell_type": "code",
   "source": [
    "# Kaczmarz algorithm\n",
    "def KacZmarz(A, b, x, tolerance, max_iterations):\n",
    "    for iteration in range(max_iterations):\n",
    "        x_old = x.copy()  # Copy old solution\n",
    "        for i, row in enumerate(A):\n",
    "            dot_product = np.dot(row, x)  # Compute dot product a_i * x\n",
    "            norm_squared = np.dot(row, row)  # Compute ||a_i||^2\n",
    "            x = x + (b[i] - dot_product) / norm_squared * row  # Update x\n",
    "        # Check for convergence\n",
    "        if np.linalg.norm(x - x_old) < tolerance:\n",
    "            print(f\"Converged after {iteration + 1} iterations.\")\n",
    "            break\n",
    "    return x\n",
    "# Run the algorithm\n",
    "result = KacZmarz(A, b, x, tolerance, max_iterations)\n",
    "print(\"Approximate solution:\", result)"
   ],
   "id": "6cc712c847c8c418",
   "outputs": [
    {
     "name": "stdout",
     "output_type": "stream",
     "text": [
      "Converged after 25 iterations.\n",
      "Approximate solution: [0.49999868 1.00000023 0.50000036]\n"
     ]
    }
   ],
   "execution_count": 70
  },
  {
   "metadata": {
    "ExecuteTime": {
     "end_time": "2024-10-08T03:22:06.512696Z",
     "start_time": "2024-10-08T03:22:06.506220Z"
    }
   },
   "cell_type": "code",
   "source": "\n",
   "id": "e862dac03924da7b",
   "outputs": [
    {
     "name": "stdout",
     "output_type": "stream",
     "text": [
      "Converged after 21 iterations.\n",
      "Approximate solution: [0.49999911 0.99999994 0.50000032]\n"
     ]
    }
   ],
   "execution_count": 9
  },
  {
   "metadata": {},
   "cell_type": "markdown",
   "source": "",
   "id": "fa78fcd7a004ea"
  },
  {
   "metadata": {},
   "cell_type": "markdown",
   "source": "",
   "id": "7b0357f640811812"
  },
  {
   "metadata": {},
   "cell_type": "markdown",
   "source": [
    "how i programme it \n",
    "\n",
    "quite disgusting but fonctionnelle "
   ],
   "id": "98fbca058e622893"
  },
  {
   "metadata": {
    "ExecuteTime": {
     "end_time": "2024-10-10T08:10:43.559464Z",
     "start_time": "2024-10-10T08:10:43.524975Z"
    }
   },
   "cell_type": "code",
   "source": [
    "def KacZmarz(matrice_A, matrice_b, inconnue):\n",
    "    for iteration in range(max_iterations):\n",
    "        x_old = inconnue.copy()  # Copie de l'ancienne solution\n",
    "        for indise, equation in enumerate(matrice_A):\n",
    "            transposer_a = 0\n",
    "            norme = 0\n",
    "            for j, element in enumerate(equation):\n",
    "                transposer_a += element * inconnue[j]  # Produit scalaire de la ligne et de x\n",
    "                norme += element * element  # Norme de la ligne\n",
    "\n",
    "            # Mise à jour s²    elon l'algorithme de Kaczmarz\n",
    "            atixi = (matrice_b[indise] - transposer_a) / norme\n",
    "            for j, element in enumerate(equation):\n",
    "                inconnue[j] = inconnue[j] + atixi * element\n",
    "\n",
    "        # Critère de convergence (tolérance)\n",
    "        if np.linalg.norm(np.array(inconnue) - np.array(x_old)) < tolerance:\n",
    "            print(f\"Convergence atteinte après {iteration + 1} loop.\")\n",
    "            break\n",
    "\n",
    "    return inconnue\n",
    "\n",
    "# Exécution de l'algorithme\n",
    "resulte = KacZmarz(A, b, x)\n",
    "\n",
    "print(\"Solution approchée:\", resulte)"
   ],
   "id": "c9d51d5ad418967c",
   "outputs": [
    {
     "name": "stdout",
     "output_type": "stream",
     "text": [
      "Convergence atteinte après 24 loop.\n",
      "Solution approchée: [0.49999951 0.99999987 0.50000021]\n"
     ]
    }
   ],
   "execution_count": 6
  },
  {
   "metadata": {
    "ExecuteTime": {
     "end_time": "2024-10-08T03:22:12.507718Z",
     "start_time": "2024-10-08T03:22:12.500947Z"
    }
   },
   "cell_type": "code",
   "source": "",
   "id": "408d532ad2552812",
   "outputs": [
    {
     "name": "stdout",
     "output_type": "stream",
     "text": [
      "Convergence atteinte après 21 loop.\n",
      "Solution approchée: [0.49999911 0.99999994 0.50000032]\n"
     ]
    }
   ],
   "execution_count": 11
  },
  {
   "metadata": {},
   "cell_type": "markdown",
   "source": "## Algorithme de Gauss-Seidel distribué",
   "id": "221ba26a8df73de9"
  },
  {
   "metadata": {
    "ExecuteTime": {
     "end_time": "2024-10-22T03:09:50.978041Z",
     "start_time": "2024-10-22T03:09:50.961578Z"
    }
   },
   "cell_type": "code",
   "source": [
    "def has_converged(x_new, x_old, tol):\n",
    "    return np.linalg.norm(x_new - x_old) < tol\n",
    "\n",
    "# Algorithme de Gauss-Seidel distribué\n",
    "def distributed_gauss_seidel(A, b, x, tolerance, max_iterations, alpha):\n",
    "    n = len(b)\n",
    "    x_old = np.zeros_like(x)\n",
    "\n",
    "    for iteration in range(max_iterations):\n",
    "        x_old[:] = x  # Sauvegarde de l'état précédent\n",
    "\n",
    "        for i in range(n):  # Chaque agent résout son équation\n",
    "            sum_except_i = np.dot(A[i, :], x) - A[i, i] * x[i]\n",
    "            x[i] = (b[i] - sum_except_i) / A[i, i]\n",
    "\n",
    "        # Appliquer le facteur de relaxation\n",
    "        x = alpha * x + (1 - alpha) * x_old\n",
    "\n",
    "        # Vérifier la convergence\n",
    "        if has_converged(x, x_old, tolerance):\n",
    "            print(f\"Converged after {iteration + 1} iterations.\")\n",
    "            break\n",
    "\n",
    "    return x\n",
    "\n",
    "# Exécution de l'algorithme\n",
    "x_solution = distributed_gauss_seidel(A, b, x, tolerance, max_iterations, alpha)\n",
    "print(\"Solution trouvée : \", x_solution)\n",
    "\n",
    "# Vérification en multipliant la solution avec A\n",
    "print(\"Vérification : A * x =\", np.dot(A, x_solution))\n"
   ],
   "id": "c9d0bfc27bd85300",
   "outputs": [
    {
     "name": "stdout",
     "output_type": "stream",
     "text": [
      "Converged after 11 iterations.\n",
      "Solution trouvée :  [0.50000034 0.99999986 0.49999993]\n",
      "Vérification : A * x = [4.00000109 7.00000026 3.        ]\n"
     ]
    }
   ],
   "execution_count": 6
  },
  {
   "metadata": {
    "ExecuteTime": {
     "end_time": "2024-10-22T03:10:01.974091Z",
     "start_time": "2024-10-22T03:10:01.956426Z"
    }
   },
   "cell_type": "code",
   "source": [
    "n_agents = 3              # 3 agents\n",
    "\n",
    "# Initialisation des solutions locales aléatoires pour chaque agent\n",
    "x_local = [np.random.rand(3) for _ in range(n_agents)]\n",
    "x_global = np.zeros(3)\n",
    "\n",
    "# Facteur de relaxation et nombre d'itérations\n",
    "alpha = 1.0\n",
    "num_iterations = 100\n",
    "\n",
    "# Voisinage des agents (ici tout le monde est voisin)\n",
    "neighbors = {0: [1, 2], 1: [0, 2], 2: [0, 1]}\n",
    "\n",
    "# Algorithme de Kaczmarz décentralisé\n",
    "for k in range(num_iterations):\n",
    "    x_new_local = []\n",
    "    \n",
    "    # Mise à jour de chaque agent\n",
    "    for i in range(n_agents):\n",
    "        a_i = A[i, :]  # Vecteur d'équation pour l'agent i\n",
    "        b_i = b[i]     # Valeur de b pour l'agent i\n",
    "        \n",
    "        # Mise à jour selon Kaczmarz\n",
    "        x_local[i] = x_local[i] + alpha * (b_i - np.dot(a_i, x_local[i])) / np.dot(a_i, a_i) * a_i\n",
    "        \n",
    "        # Communication : chaque agent reçoit les estimations de ses voisins\n",
    "        neighbors_estimates = [x_local[j] for j in neighbors[i]]\n",
    "        \n",
    "        # Moyenne avec les voisins\n",
    "        x_local[i] = (x_local[i] + sum(neighbors_estimates)) / (len(neighbors[i]) + 1)\n",
    "    \n",
    "    # Affichage de l'estimation après chaque itération\n",
    "    #print(f\"Iteration {k+1}, estimations locales : {x_local}\")\n",
    "\n",
    "# Les solutions finales pour chaque agent convergeront vers la solution globale\n",
    "print(f\"Iteration {k+1}, estimations locales : {x_local}\")"
   ],
   "id": "e0bc201b1b995ae7",
   "outputs": [
    {
     "name": "stdout",
     "output_type": "stream",
     "text": [
      "Iteration 100, estimations locales : [array([0.49780391, 1.00119565, 0.50187933]), array([0.49757739, 1.00112647, 0.50172638]), array([0.49751441, 1.00103188, 0.5014313 ])]\n"
     ]
    }
   ],
   "execution_count": 7
  },
  {
   "metadata": {
    "ExecuteTime": {
     "end_time": "2024-10-08T05:21:09.162227Z",
     "start_time": "2024-10-08T05:21:09.147886Z"
    }
   },
   "cell_type": "code",
   "source": "",
   "id": "f2b16f1458aa38d9",
   "outputs": [
    {
     "name": "stdout",
     "output_type": "stream",
     "text": [
      "24 回のループで収束しました。\n",
      "近似解: [0.49999943 0.99999987 0.50000023]\n"
     ]
    }
   ],
   "execution_count": 31
  },
  {
   "metadata": {},
   "cell_type": "markdown",
   "source": "The most performant algoryme use kaczmarz plus ",
   "id": "ff17de5d8479f861"
  },
  {
   "metadata": {
    "ExecuteTime": {
     "end_time": "2024-10-22T03:10:23.811347Z",
     "start_time": "2024-10-22T03:10:23.793678Z"
    }
   },
   "cell_type": "code",
   "source": [
    "import numpy as np\n",
    "\n",
    "# Matrix A and vector b\n",
    "A = np.array([[4, 1, 2],\n",
    "              [3, 5, 1],\n",
    "              [1, 1, 3]])\n",
    "\n",
    "b = np.array([4, 7, 3])\n",
    "\n",
    "# Random initialization of vector x\n",
    "x = np.random.rand(3)\n",
    "print(\"Initial random x:\", x)\n",
    "\n",
    "# Parameters for the algorithm\n",
    "tolerance = 1e-6\n",
    "max_iterations = 10000\n",
    "\n",
    "# Pré-calcul de la norme de chaque ligne de la matrice A (évitant de recalculer à chaque itération)\n",
    "norms = np.sum(A ** 2, axis=1)\n",
    "\n",
    "\n",
    "# Fonction Kaczmarz pour résoudre 1x\n",
    "def Kaczmarz_one_iteration(A_row, b_value, inconnue, norm):\n",
    "    # Produit scalaire entre A_row et x (A_row.dot(x))\n",
    "    Transpose_a = np.dot(A_row, inconnue)\n",
    "\n",
    "    # Mise à jour de x selon l'algorithme de Kaczmarz\n",
    "    atixi = (b_value - Transpose_a) / norm\n",
    "    inconnue += atixi * A_row  # Mise à jour de chaque inconnue\n",
    "\n",
    "    return inconnue\n",
    "\n",
    "\n",
    "# Fonction pour exécuter une itération de Kaczmarz sur toutes les équations\n",
    "def Kaczmarz_one_loop(inconnue):\n",
    "    all_inconnue = np.zeros_like(inconnue)  # Initialiser une nouvelle matrice pour stocker les résultats\n",
    "\n",
    "    # Appliquer Kaczmarz à chaque ligne de A\n",
    "    for i in range(len(A)):\n",
    "        all_inconnue += Kaczmarz_one_iteration(A[i], b[i], inconnue, norms[i])\n",
    "\n",
    "    # Retourner la moyenne des résultats avec numpy\n",
    "    return all_inconnue / len(A)\n",
    "\n",
    "\n",
    "# Fonction principale de l'algorithme avec contrôle de convergence\n",
    "def Kaczmarz():\n",
    "    x_copy = x.copy()  # Initialisation des inconnues\n",
    "    x_old = np.zeros_like(x_copy)  # Conserver l'ancienne version de x pour la convergence\n",
    "\n",
    "    for iteration in range(max_iterations):\n",
    "        x_old[:] = x_copy  # Conserver l'ancienne itération pour vérification de la convergence\n",
    "\n",
    "        # Effectuer une itération complète sur toutes les équations\n",
    "        x_copy = Kaczmarz_one_loop(x_copy)\n",
    "\n",
    "        # Vérification de la convergence\n",
    "        if convergence(x_copy, x_old):\n",
    "            print(f\"Convergence atteinte après {iteration + 1} itérations.\")\n",
    "            break\n",
    "\n",
    "    return x_copy\n",
    "\n",
    "\n",
    "# Fonction de convergence\n",
    "def convergence(inconnue, x_old):\n",
    "    # Vérification de la différence entre l'ancienne et la nouvelle valeur de x\n",
    "    return np.linalg.norm(inconnue - x_old) < tolerance\n",
    "\n",
    "\n",
    "# Exécution de Kaczmarz et vérification de la convergence\n",
    "final_inconnue = Kaczmarz()\n",
    "\n",
    "print(\"La solution finale (x, y, z) est :\", final_inconnue)"
   ],
   "id": "98d99c23882101f4",
   "outputs": [
    {
     "name": "stdout",
     "output_type": "stream",
     "text": [
      "Initial random x: [0.9084043  0.36448839 0.61544607]\n",
      "Convergence atteinte après 64 itérations.\n",
      "La solution finale (x, y, z) est : [0.50000294 1.00000016 0.49999592]\n"
     ]
    }
   ],
   "execution_count": 8
  },
  {
   "metadata": {
    "ExecuteTime": {
     "end_time": "2024-10-22T03:10:33.548489Z",
     "start_time": "2024-10-22T03:10:33.527098Z"
    }
   },
   "cell_type": "code",
   "source": [
    "import numpy as np\n",
    "\n",
    "# Matrix A and vector b\n",
    "A = np.array([[4, 1, 2],\n",
    "              [3, 5, 1],\n",
    "              [1, 1, 3]])\n",
    "\n",
    "b = np.array([4, 7, 3])\n",
    "\n",
    "# Random initialization of vector x\n",
    "x = np.random.rand(3)\n",
    "print(\"Initial random x:\", x)\n",
    "\n",
    "# Parameters for the algorithm\n",
    "tolerance = 1e-6\n",
    "max_iterations = 10000\n",
    "\n",
    "# Fonction Kaczmarz pour résoudre 1x\n",
    "def Kaczmarz_one_iteration(matrice_A, matrice_b, inconnue):\n",
    "    Transpose_a = 0\n",
    "    Norm = 0\n",
    "    for i, A_elem in enumerate(matrice_A):\n",
    "        Transpose_a += A_elem * inconnue[i]  # Produit scalaire entre a et x\n",
    "        Norm += A_elem * A_elem  # Norme de a\n",
    "\n",
    "    # Mise à jour de x selon l'algorithme de Kaczmarz\n",
    "    atixi = (matrice_b - Transpose_a) / Norm\n",
    "    for i, A_elem in enumerate(matrice_A):\n",
    "        inconnue[i] = inconnue[i] + atixi * A_elem  # Mise à jour de chaque inconnue\n",
    "\n",
    "    return inconnue\n",
    "\n",
    "# Fonction pour exécuter une itération de Kaczmarz sur toutes les équations\n",
    "def Kaczmarz_one_loop(inconnue):\n",
    "    all_inconnue = []\n",
    "\n",
    "    # Appliquer KacZmarz à chaque ligne de A pour obtenir les nouvelles inconnues\n",
    "    for i in range(len(A)):\n",
    "        new_inconnue = Kaczmarz_one_iteration(A[i], b[i], inconnue.copy())\n",
    "        all_inconnue.append(new_inconnue)\n",
    "\n",
    "    # Calculer la moyenne des résultats avec numpy\n",
    "    return np.mean(all_inconnue, axis=0)\n",
    "\n",
    "# Fonction principale de l'algorithme avec contrôle de convergence\n",
    "def Kaczmarz():\n",
    "    x_copy = x.copy()  # Initialisation des inconnues\n",
    "    x_old = x_copy.copy()  # Conserver l'ancienne version de x pour la convergence\n",
    "\n",
    "    for iteration in range(max_iterations):\n",
    "        x_old = x_copy.copy()  # Conserver l'ancienne itération pour vérification de la convergence\n",
    "\n",
    "        # Effectuer une itération complète sur toutes les équations\n",
    "        x_copy = Kaczmarz_one_loop(x_copy)\n",
    "\n",
    "        # Vérification de la convergence\n",
    "        if convergence(x_copy, x_old):\n",
    "            print(f\"Convergence atteinte après {iteration + 1} itérations.\")\n",
    "            break\n",
    "\n",
    "    return x_copy\n",
    "\n",
    "# Fonction de convergence\n",
    "def convergence(inconnue, x_old):\n",
    "    # Vérification de la différence entre l'ancienne et la nouvelle valeur de x\n",
    "    return np.linalg.norm(np.array(inconnue) - np.array(x_old)) < tolerance\n",
    "\n",
    "# Exécution de Kaczmarz et vérification de la convergence\n",
    "final_inconnue = Kaczmarz()\n",
    "\n",
    "print(\"La solution finale (x, y, z) est :\", final_inconnue)\n"
   ],
   "id": "e35ba6eea82ee420",
   "outputs": [
    {
     "name": "stdout",
     "output_type": "stream",
     "text": [
      "Initial random x: [0.40970395 0.35501356 0.27673669]\n",
      "Convergence atteinte après 129 itérations.\n",
      "La solution finale (x, y, z) est : [0.50000815 0.99999335 0.49999672]\n"
     ]
    }
   ],
   "execution_count": 9
  },
  {
   "metadata": {
    "ExecuteTime": {
     "end_time": "2024-10-22T03:31:29.905860Z",
     "start_time": "2024-10-22T03:31:29.893971Z"
    }
   },
   "cell_type": "code",
   "source": [
    "import numpy as np\n",
    "\n",
    "# Matrix A and vector b\n",
    "A = np.array([[4, 1, 2],\n",
    "              [3, 5, 1],\n",
    "              [1, 1, 3]])\n",
    "\n",
    "b = np.array([4, 7, 3])\n",
    "\n",
    "# Random initialization of vector x\n",
    "x = np.random.rand(3)\n",
    "print(\"Initial random x:\", x)\n",
    "\n",
    "# Parameters for the algorithm\n",
    "tolerance = 1e-6\n",
    "max_iterations = 10000\n",
    "\n",
    "# Pré-calcul de la norme de chaque ligne de la matrice A (évitant de recalculer à chaque itération)\n",
    "norms = np.sum(A ** 2, axis=1)\n",
    "\n",
    "\n",
    "# Fonction Kaczmarz pour résoudre une équation\n",
    "def Kaczmarz_one_iteration(A_row, b_value, inconnue, norm):\n",
    "    # Produit scalaire entre A_row et x (A_row.dot(x))\n",
    "    Transpose_a = np.dot(A_row, inconnue)\n",
    "\n",
    "    # Mise à jour de x selon l'algorithme de Kaczmarz\n",
    "    atixi = (b_value - Transpose_a) / norm\n",
    "    inconnue += atixi * A_row  # Mise à jour de chaque inconnue\n",
    "\n",
    "    return inconnue\n",
    "\n",
    "\n",
    "# Fonction pour exécuter une itération de Kaczmarz sur toutes les équations\n",
    "def Kaczmarz_one_loop(inconnue):\n",
    "    # Appliquer Kaczmarz à chaque ligne de A\n",
    "    for i in range(len(A)):\n",
    "        inconnue = Kaczmarz_one_iteration(A[i], b[i], inconnue, norms[i])\n",
    "\n",
    "    return inconnue\n",
    "\n",
    "\n",
    "# Fonction principale de l'algorithme avec contrôle de convergence\n",
    "def Kaczmarz():\n",
    "    x_copy = x.copy()  # Initialisation des inconnues\n",
    "    x_old = np.zeros_like(x_copy)  # Conserver l'ancienne version de x pour la convergence\n",
    "\n",
    "    for iteration in range(max_iterations):\n",
    "        x_old[:] = x_copy  # Conserver l'ancienne itération pour vérification de la convergence\n",
    "\n",
    "        # Effectuer une itération complète sur toutes les équations\n",
    "        x_copy = Kaczmarz_one_loop(x_copy)\n",
    "\n",
    "        # Vérification de la convergence\n",
    "        if convergence(x_copy, x_old):\n",
    "            print(f\"Convergence atteinte après {iteration + 1} itérations.\")\n",
    "            break\n",
    "\n",
    "    return x_copy\n",
    "\n",
    "\n",
    "# Fonction de convergence\n",
    "def convergence(inconnue, x_old):\n",
    "    # Vérification de la différence entre l'ancienne et la nouvelle valeur de x\n",
    "    return np.linalg.norm(inconnue - x_old) < tolerance\n",
    "\n",
    "\n",
    "# Exécution de Kaczmarz et vérification de la convergence\n",
    "final_inconnue = Kaczmarz()\n",
    "\n",
    "print(\"La solution finale (x, y, z) est :\", final_inconnue)\n"
   ],
   "id": "46e1c08617e5c0d",
   "outputs": [
    {
     "name": "stdout",
     "output_type": "stream",
     "text": [
      "Initial random x: [0.23347665 0.21740328 0.76564   ]\n",
      "Convergence atteinte après 23 itérations.\n",
      "La solution finale (x, y, z) est : [0.49999892 0.99999998 0.50000036]\n"
     ]
    }
   ],
   "execution_count": 10
  }
 ],
 "metadata": {
  "kernelspec": {
   "display_name": "Python 3",
   "language": "python",
   "name": "python3"
  },
  "language_info": {
   "codemirror_mode": {
    "name": "ipython",
    "version": 2
   },
   "file_extension": ".py",
   "mimetype": "text/x-python",
   "name": "python",
   "nbconvert_exporter": "python",
   "pygments_lexer": "ipython2",
   "version": "2.7.6"
  }
 },
 "nbformat": 4,
 "nbformat_minor": 5
}
