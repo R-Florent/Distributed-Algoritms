{
 "cells": [
  {
   "metadata": {},
   "cell_type": "markdown",
   "source": [
    "# **Kaczmarz Algorithm**\n",
    "\n",
    "The Kaczmarz algorithm is an iterative method for solving systems of linear equations of the form:\n",
    "\n",
    "$$\n",
    "Ax = b\n",
    "$$\n",
    "\n",
    "Where:\n",
    "- \\(A\\) is a matrix of size \\(m \\times n\\),\n",
    "- \\(x\\) is the vector of unknowns,\n",
    "- \\(b\\) is the vector of results.\n",
    "\n",
    "### **Mathematical Method**\n",
    "\n",
    "Given a current estimate \\(x_k\\), the update for the next iteration \\(x_{k+1}\\) is calculated by projecting the current solution onto the hyperplane defined by the \\(i\\)-th row \\(a_i\\) of matrix \\(A\\). The update formula is:\n",
    "\n",
    "$$\n",
    "x_{k+1} = x_k + \\frac{b_i - a_i^T x_k}{\\|a_i\\|^2} a_i\n",
    "$$\n",
    "\n",
    "Where:\n",
    "- \\(a_i\\) is the \\(i\\)-th row of the matrix \\(A\\),\n",
    "- \\(b_i\\) is the corresponding element of vector \\(b\\),\n",
    "$$ \\|a_i\\|^2\\ $$ \n",
    "-  is the squared norm of \\(a_i\\),\n",
    "- \\(x_k\\) is the current estimate of the solution.\n",
    "\n",
    "This formula is applied iteratively for each row of \\(A\\) until convergence.\n",
    "\n",
    "### **Algorithm Explanation**:\n",
    "\n",
    "At each iteration \\(k\\), the current estimate \\(x_k\\) is projected onto the hyperplane defined by the equation:\n",
    "\n",
    "$$\n",
    "a_i^T x = b_i\n",
    "$$\n",
    "\n",
    "The projection step is:\n",
    "\n",
    "$$\n",
    "x_{k+1} = x_k + \\frac{b_i - a_i^T x_k}{\\|a_i\\|^2} a_i\n",
    "$$\n",
    "\n",
    "This process repeats for each row \\(a_i\\) of the matrix \\(A\\), updating the vector \\(x\\) until the solution converges. The stopping criterion is based on either a tolerance (a small enough difference between \\(x_k\\) and \\(x_{k+1}\\)) or a maximum number of iterations."
   ],
   "id": "4dcbb31ad9a09a49"
  },
  {
   "metadata": {},
   "cell_type": "code",
   "outputs": [],
   "execution_count": null,
   "source": "",
   "id": "8a28511315180479"
  },
  {
   "metadata": {},
   "cell_type": "markdown",
   "source": [
    "# **Begin of Algorithm**\n",
    "need to compute this piece of code to get the value \n",
    "\n",
    "this work for all algortym \n"
   ],
   "id": "73788b3abd191807"
  },
  {
   "metadata": {
    "ExecuteTime": {
     "end_time": "2024-10-07T02:55:45.592647Z",
     "start_time": "2024-10-07T02:55:45.281993Z"
    }
   },
   "cell_type": "code",
   "source": [
    "import numpy as np\n",
    "\n",
    "A = np.array([[1325, 5245, 4345345],\n",
    "              [5, -44343, -40001],\n",
    "              [1, 408, 4]])\n",
    "\n",
    "b = np.array([10, -2, 30])"
   ],
   "id": "66b9d0f930431047",
   "outputs": [],
   "execution_count": 1
  },
  {
   "metadata": {
    "ExecuteTime": {
     "end_time": "2024-10-04T02:39:53.797292Z",
     "start_time": "2024-10-04T02:39:53.490274Z"
    }
   },
   "cell_type": "code",
   "source": [
    "import numpy as np\n",
    "\n",
    "# Matrix A and vector b\n",
    "A = np.array([[4, 1, 2],\n",
    "              [3, 5, 1],\n",
    "              [1, 1, 3]])\n",
    "\n",
    "b = np.array([4, 7, 3])"
   ],
   "id": "418bacf8880284c3",
   "outputs": [],
   "execution_count": 2
  },
  {
   "metadata": {
    "ExecuteTime": {
     "end_time": "2024-10-07T02:55:45.607392Z",
     "start_time": "2024-10-07T02:55:45.601152Z"
    }
   },
   "cell_type": "code",
   "source": [
    "# Random initialization of vector x\n",
    "x = np.random.rand(3)"
   ],
   "id": "9d943bf4697693c9",
   "outputs": [],
   "execution_count": 2
  },
  {
   "metadata": {
    "ExecuteTime": {
     "end_time": "2024-10-07T02:55:45.624818Z",
     "start_time": "2024-10-07T02:55:45.616900Z"
    }
   },
   "cell_type": "code",
   "source": [
    "# Parameters for the algorithm\n",
    "tolerance = 1e-6\n",
    "max_iterations = 1000"
   ],
   "id": "55f0cad16968f8ab",
   "outputs": [],
   "execution_count": 3
  },
  {
   "metadata": {},
   "cell_type": "markdown",
   "source": "",
   "id": "494ac45043b190f6"
  },
  {
   "metadata": {},
   "cell_type": "markdown",
   "source": "### **Python Example**:",
   "id": "930d9fd18f6abc59"
  },
  {
   "metadata": {
    "ExecuteTime": {
     "end_time": "2024-10-07T02:55:54.943884Z",
     "start_time": "2024-10-07T02:55:54.935152Z"
    }
   },
   "cell_type": "code",
   "source": [
    "# Kaczmarz algorithm\n",
    "def KacZmarz(A, b, x, tolerance, max_iterations):\n",
    "    for iteration in range(max_iterations):\n",
    "        x_old = x.copy()  # Copy old solution\n",
    "        for i, row in enumerate(A):\n",
    "            dot_product = np.dot(row, x)  # Compute dot product a_i * x\n",
    "            norm_squared = np.dot(row, row)  # Compute ||a_i||^2\n",
    "            x = x + (b[i] - dot_product) / norm_squared * row  # Update x\n",
    "        # Check for convergence\n",
    "        if np.linalg.norm(x - x_old) < tolerance:\n",
    "            print(f\"Converged after {iteration + 1} iterations.\")\n",
    "            break\n",
    "    return x"
   ],
   "id": "6cc712c847c8c418",
   "outputs": [],
   "execution_count": 4
  },
  {
   "metadata": {
    "ExecuteTime": {
     "end_time": "2024-10-07T02:55:58.798669Z",
     "start_time": "2024-10-07T02:55:58.752541Z"
    }
   },
   "cell_type": "code",
   "source": [
    "# Run the algorithm\n",
    "result = KacZmarz(A, b, x, tolerance, max_iterations)\n",
    "print(\"Approximate solution:\", result)\n"
   ],
   "id": "e862dac03924da7b",
   "outputs": [
    {
     "name": "stdout",
     "output_type": "stream",
     "text": [
      "Approximate solution: [nan nan nan]\n"
     ]
    }
   ],
   "execution_count": 5
  },
  {
   "metadata": {},
   "cell_type": "markdown",
   "source": "",
   "id": "fa78fcd7a004ea"
  },
  {
   "metadata": {},
   "cell_type": "markdown",
   "source": "",
   "id": "7b0357f640811812"
  },
  {
   "metadata": {},
   "cell_type": "markdown",
   "source": [
    "how i programme it \n",
    "\n",
    "quite disgusting but fonctionnelle "
   ],
   "id": "98fbca058e622893"
  },
  {
   "metadata": {
    "ExecuteTime": {
     "end_time": "2024-10-07T02:56:10.033378Z",
     "start_time": "2024-10-07T02:56:10.013224Z"
    }
   },
   "cell_type": "code",
   "source": [
    "def KacZmarz(matrice_A, matrice_b, inconnue):\n",
    "    for iteration in range(max_iterations):\n",
    "        x_old = inconnue.copy()  # Copie de l'ancienne solution\n",
    "        for indise, equation in enumerate(matrice_A):\n",
    "            transposer_a = 0\n",
    "            norme = 0\n",
    "            for j, element in enumerate(equation):\n",
    "                transposer_a += element * inconnue[j]  # Produit scalaire de la ligne et de x\n",
    "                norme += element * element  # Norme de la ligne\n",
    "\n",
    "            # Mise à jour selon l'algorithme de Kaczmarz\n",
    "            atixi = (matrice_b[indise] - transposer_a) / norme\n",
    "            for j, element in enumerate(equation):\n",
    "                inconnue[j] = inconnue[j] + atixi * element\n",
    "\n",
    "        # Critère de convergence (tolérance)\n",
    "        if np.linalg.norm(np.array(inconnue) - np.array(x_old)) < tolerance:\n",
    "            print(f\"Convergence atteinte après {iteration + 1} loop.\")\n",
    "            break\n",
    "\n",
    "    return inconnue"
   ],
   "id": "c9d51d5ad418967c",
   "outputs": [],
   "execution_count": 6
  },
  {
   "metadata": {
    "ExecuteTime": {
     "end_time": "2024-10-07T02:56:13.210568Z",
     "start_time": "2024-10-07T02:56:13.175087Z"
    }
   },
   "cell_type": "code",
   "source": [
    "# Exécution de l'algorithme\n",
    "resulte = KacZmarz(A, b, x)\n",
    "\n",
    "print(\"Solution approchée:\", resulte)"
   ],
   "id": "408d532ad2552812",
   "outputs": [
    {
     "name": "stdout",
     "output_type": "stream",
     "text": [
      "Solution approchée: [nan nan nan]\n"
     ]
    },
    {
     "name": "stderr",
     "output_type": "stream",
     "text": [
      "C:\\Users\\t-lab\\AppData\\Local\\Temp\\ipykernel_14592\\2813808236.py:9: RuntimeWarning: overflow encountered in scalar multiply\n",
      "  norme += element * element  # Norme de la ligne\n",
      "C:\\Users\\t-lab\\AppData\\Local\\Temp\\ipykernel_14592\\2813808236.py:9: RuntimeWarning: overflow encountered in scalar add\n",
      "  norme += element * element  # Norme de la ligne\n",
      "C:\\Users\\t-lab\\AppData\\Local\\Temp\\ipykernel_14592\\2813808236.py:8: RuntimeWarning: overflow encountered in scalar multiply\n",
      "  transposer_a += element * inconnue[j]  # Produit scalaire de la ligne et de x\n",
      "C:\\Users\\t-lab\\AppData\\Local\\Temp\\ipykernel_14592\\2813808236.py:8: RuntimeWarning: invalid value encountered in scalar add\n",
      "  transposer_a += element * inconnue[j]  # Produit scalaire de la ligne et de x\n"
     ]
    }
   ],
   "execution_count": 7
  }
 ],
 "metadata": {
  "kernelspec": {
   "display_name": "Python 3",
   "language": "python",
   "name": "python3"
  },
  "language_info": {
   "codemirror_mode": {
    "name": "ipython",
    "version": 2
   },
   "file_extension": ".py",
   "mimetype": "text/x-python",
   "name": "python",
   "nbconvert_exporter": "python",
   "pygments_lexer": "ipython2",
   "version": "2.7.6"
  }
 },
 "nbformat": 4,
 "nbformat_minor": 5
}
