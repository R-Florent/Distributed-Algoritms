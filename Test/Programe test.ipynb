{
 "cells": [
  {
   "metadata": {},
   "cell_type": "markdown",
   "source": [
    "In the graph above, the two lines represent the linear equations:\n",
    "\n",
    "#### 1 :  2x+y=4 (in blue)\n",
    "#### 2 :  x−y=1 (in red)\n",
    "\n",
    "The blue point represents a solution from line 1 (at 𝑥 = 2x=2).\n",
    " To project this point onto the second line (line 2), we use vector projection. The green point represents the projection of the blue point onto line 2.\n",
    "\n",
    "In summary, projecting a point onto a line means finding the closest point on that line to the given point. This method is often used in optimization algorithms, like in your case, where the projected result is used to refine the solution across constraints."
   ],
   "id": "2a013120a09cd684"
  },
  {
   "metadata": {},
   "cell_type": "markdown",
   "source": "Pour résoudre un système d'équations linéaires avec des agents, on peut utiliser des techniques de calcul distribué ou algorithmes itératifs distribués. Chaque agent possède une partie de l'information (ici, une équation), et ils vont coopérer pour trouver la solution globale sans avoir une vue complète de toutes les équations.",
   "id": "f26b4235ee5a9338"
  },
  {
   "metadata": {},
   "cell_type": "markdown",
   "source": "",
   "id": "4dcbb31ad9a09a49"
  },
  {
   "metadata": {
    "ExecuteTime": {
     "end_time": "2024-10-02T13:48:49.533816Z",
     "start_time": "2024-10-02T13:48:49.502441Z"
    }
   },
   "cell_type": "code",
   "source": [
    "import numpy as np\n",
    "\n",
    "A = np.array([[4, 1, 2],\n",
    "              [3, 5, 1],\n",
    "              [1, 1, 3]])\n",
    "\n",
    "b = np.array([4, 7, 3])\n",
    "\n",
    "x = np.random.rand(3)  # x1, x2, x3 initialisés aléatoirement\n",
    "\n",
    "# Paramètres pour l'algorithme itératif\n",
    "tolerance = 1e-6\n",
    "max_iterations = 1000\n",
    "alpha = 0.9\n",
    "\n",
    "print(\"Les valeurs initiales des inconnues sont\", x)\n",
    "\n",
    "def KacZmarg(matrice_A, matrice_b, inconnue, max_iterations, alpha, tolerance):\n",
    "    n = len(matrice_b)\n",
    "    for iteration in range(max_iterations):\n",
    "        x_old = inconnue.copy()  # Conserver les anciennes valeurs pour la vérification de convergence\n",
    "        for i in range(n):\n",
    "            transposer_a = 0\n",
    "            norme = 0\n",
    "            # Boucle à travers chaque élément de la ligne\n",
    "            for j, element in enumerate(matrice_A[i]):\n",
    "                transposer_a += element * inconnue[j]  # On utilise j comme index ici\n",
    "                norme += element * element\n",
    "                #print(f\"Inconnue[{j}] = {inconnue[j]}\")\n",
    "            # Mise à jour de l'inconnue\n",
    "            inconnue += alpha * (matrice_b[i] - transposer_a) / norme * matrice_A[i]\n",
    "        \n",
    "        # Vérifier la convergence\n",
    "        if np.linalg.norm(inconnue - x_old) < tolerance:\n",
    "            #print(f\"Convergence atteinte après {iteration+1} itérations.\")\n",
    "            loop = iteration\n",
    "            break\n",
    "    \n",
    "    \n",
    "    \n",
    "    \n",
    "    return inconnue,loop\n",
    "\n",
    "# Appliquer l'algorithme de Kaczmarz\n",
    "resultat,iter = KacZmarg(A, b, x, max_iterations, alpha, tolerance)\n",
    "\n",
    "print(\"Le résultat final des inconnues est :\", resultat,iter)"
   ],
   "id": "6456ceaf9faa915c",
   "outputs": [
    {
     "name": "stdout",
     "output_type": "stream",
     "text": [
      "Les valeurs initiales des inconnues sont [0.35401149 0.46659325 0.52925547]\n"
     ]
    },
    {
     "ename": "NameError",
     "evalue": "name 'iteration' is not defined",
     "output_type": "error",
     "traceback": [
      "\u001B[1;31m---------------------------------------------------------------------------\u001B[0m",
      "\u001B[1;31mNameError\u001B[0m                                 Traceback (most recent call last)",
      "Cell \u001B[1;32mIn[5], line 44\u001B[0m\n\u001B[0;32m     41\u001B[0m \u001B[38;5;66;03m# Appliquer l'algorithme de Kaczmarz\u001B[39;00m\n\u001B[0;32m     42\u001B[0m resultat \u001B[38;5;241m=\u001B[39m KacZmarg(A, b, x, max_iterations, alpha, tolerance)\n\u001B[1;32m---> 44\u001B[0m \u001B[38;5;28mprint\u001B[39m(\u001B[38;5;124m\"\u001B[39m\u001B[38;5;124mLe résultat final des inconnues est :\u001B[39m\u001B[38;5;124m\"\u001B[39m, resultat,iteration)\n",
      "\u001B[1;31mNameError\u001B[0m: name 'iteration' is not defined"
     ]
    }
   ],
   "execution_count": 5
  },
  {
   "metadata": {
    "ExecuteTime": {
     "end_time": "2024-11-05T09:36:11.259962Z",
     "start_time": "2024-11-05T09:36:10.958213Z"
    }
   },
   "cell_type": "code",
   "source": [
    "import numpy as np\n",
    "\n",
    "def generer_systeme_lineaire(nb_variables, nb_equations):\n",
    "    \"\"\"\n",
    "    Génère un système linéaire valide (A, b) de nb_equations équations et nb_variables variables.\n",
    "    \"\"\"\n",
    "    # 1. Générer une solution aléatoire\n",
    "    solution = np.random.randint(-10, 10, size=(nb_variables, 1))\n",
    "    \n",
    "    # 2. Générer une matrice A de taille nb_equations x nb_variables avec un rang maximal\n",
    "    while True:\n",
    "        A = np.random.randint(-10, 10, size=(nb_equations, nb_variables))\n",
    "        # Vérifier que le rang est maximal (pour garantir l'indépendance linéaire)\n",
    "        if np.linalg.matrix_rank(A) == nb_variables:\n",
    "            break\n",
    "    \n",
    "    # 3. Calculer le vecteur constant b pour garantir que le système a une solution\n",
    "    b = A @ solution\n",
    "    \n",
    "    return A, b, solution\n",
    "\n",
    "# Exemple d'utilisation :\n",
    "nb_variables = 3\n",
    "nb_equations = 3\n",
    "A, b, solution = generer_systeme_lineaire(nb_variables, nb_equations)\n",
    "\n",
    "print(\"Matrice des coefficients A :\")\n",
    "print(A)\n",
    "print(\"\\nVecteur constant b :\")\n",
    "print(b)\n",
    "print(\"\\nSolution générée :\")\n",
    "print(solution)\n"
   ],
   "id": "23f7d6d571377bd7",
   "outputs": [
    {
     "name": "stdout",
     "output_type": "stream",
     "text": [
      "Matrice des coefficients A :\n",
      "[[ -8  -3  -1]\n",
      " [ -9  -2  -8]\n",
      " [-10   8  -3]]\n",
      "\n",
      "Vecteur constant b :\n",
      "[[61]\n",
      " [26]\n",
      " [-3]]\n",
      "\n",
      "Solution générée :\n",
      "[[-6]\n",
      " [-6]\n",
      " [ 5]]\n"
     ]
    }
   ],
   "execution_count": 1
  },
  {
   "metadata": {
    "ExecuteTime": {
     "end_time": "2024-11-05T10:08:39.528399Z",
     "start_time": "2024-11-05T10:08:39.496050Z"
    }
   },
   "cell_type": "code",
   "source": [
    "import numpy as np\n",
    "\n",
    "def generate_linear_systems(num_systems, matrix_size, min_val=-10, max_val=10):\n",
    "    \"\"\"\n",
    "    Génère un ensemble de systèmes linéaires de la forme Ax = b.\n",
    "\n",
    "    Parameters:\n",
    "    - num_systems (int): Le nombre de systèmes linéaires à générer.\n",
    "    - matrix_size (int): La taille de la matrice carrée A (ex. 3 pour une matrice 3x3).\n",
    "    - min_val (int): La valeur minimale pour les éléments de A et b (défaut: -10).\n",
    "    - max_val (int): La valeur maximale pour les éléments de A et b (défaut: 10).\n",
    "\n",
    "    Returns:\n",
    "    - List[Tuple[np.ndarray, np.ndarray]]: Une liste de tuples où chaque tuple contient\n",
    "      une matrice A et un vecteur b pour un système linéaire.\n",
    "    \"\"\"\n",
    "    systems = []\n",
    "    for _ in range(num_systems):\n",
    "        # Génère une matrice A de taille `matrix_size` x `matrix_size` avec des valeurs aléatoires\n",
    "        A = np.random.randint(min_val, max_val, size=(matrix_size, matrix_size))\n",
    "        \n",
    "        # Vérifie si la matrice est inversible (i.e. déterminant non nul)\n",
    "        if np.linalg.det(A) == 0:\n",
    "            # Si non inversible, on régénère la matrice A\n",
    "            while np.linalg.det(A) == 0:\n",
    "                A = np.random.randint(min_val, max_val, size=(matrix_size, matrix_size))\n",
    "        \n",
    "        # Génère un vecteur b de taille `matrix_size` avec des valeurs aléatoires\n",
    "        b = np.random.randint(min_val, max_val, size=(matrix_size,))\n",
    "        \n",
    "        systems.append((A, b))\n",
    "    \n",
    "    return systems\n",
    "\n",
    "# Exemple d'utilisation : génère 5 systèmes linéaires de matrices 3x3\n",
    "systems = generate_linear_systems(num_systems=5, matrix_size=3)\n",
    "for i, (A, b) in enumerate(systems):\n",
    "    print(f\"Système {i+1}:\")\n",
    "    print(\"A =\\n\", A)\n",
    "    print(\"b =\", b)\n",
    "    print(\"-\" * 30)\n"
   ],
   "id": "49c37a4944765fb2",
   "outputs": [
    {
     "name": "stdout",
     "output_type": "stream",
     "text": [
      "Système 1:\n",
      "A =\n",
      " [[-8 -4  4]\n",
      " [ 0 -2  6]\n",
      " [ 9 -8 -4]]\n",
      "b = [4 3 1]\n",
      "------------------------------\n",
      "Système 2:\n",
      "A =\n",
      " [[  3   0  -8]\n",
      " [  4   2  -7]\n",
      " [  8   9 -10]]\n",
      "b = [6 9 0]\n",
      "------------------------------\n",
      "Système 3:\n",
      "A =\n",
      " [[  1   1  -1]\n",
      " [ -3   3   6]\n",
      " [  7 -10   3]]\n",
      "b = [-1 -7 -5]\n",
      "------------------------------\n",
      "Système 4:\n",
      "A =\n",
      " [[  2   9  -6]\n",
      " [  5   1  -2]\n",
      " [ -9 -10   0]]\n",
      "b = [-1  7  5]\n",
      "------------------------------\n",
      "Système 5:\n",
      "A =\n",
      " [[ 8 -3 -8]\n",
      " [-8 -1 -8]\n",
      " [ 2  0 -6]]\n",
      "b = [-6  1 -2]\n",
      "------------------------------\n"
     ]
    }
   ],
   "execution_count": 4
  },
  {
   "metadata": {
    "ExecuteTime": {
     "end_time": "2024-11-06T09:44:28.065523Z",
     "start_time": "2024-11-06T09:44:25.906154Z"
    }
   },
   "cell_type": "code",
   "source": [
    "import numpy as np\n",
    "import json\n",
    "import os\n",
    "\n",
    "# Dossier pour stocker les graphiques\n",
    "if not os.path.exists(\"graphs\"):\n",
    "    os.makedirs(\"graphs\")\n",
    "\n",
    "# Nombre de systèmes à générer\n",
    "num_systems = 7\n",
    "systems = []\n",
    "\n",
    "\n",
    "# Génération de systèmes de taille croissante et stockage\n",
    "for i in range(3, 10):\n",
    "    A = np.random.rand(i, i)\n",
    "    b = np.random.rand(i)\n",
    "\n",
    "    # Stockage des données dans un dictionnaire\n",
    "    system_data = {\n",
    "        \"A\": A.tolist(),\n",
    "        \"b\": b.tolist(),\n",
    "        \"solution\": solution.tolist(),\n",
    "    }\n",
    "    systems.append(system_data)\n",
    "\n",
    "# Stockage de tous les systèmes dans un fichier JSON\n",
    "with open(\"systems_data.json\", \"w\") as f:\n",
    "    json.dump(systems, f, indent=4)\n",
    "\n",
    "print(\"Les systèmes et les graphiques associés ont été stockés avec succès.\")\n"
   ],
   "id": "eb518e1a3441a534",
   "outputs": [
    {
     "name": "stdout",
     "output_type": "stream",
     "text": [
      "Les systèmes et les graphiques associés ont été stockés avec succès.\n"
     ]
    }
   ],
   "execution_count": 2
  },
  {
   "metadata": {
    "ExecuteTime": {
     "end_time": "2024-12-05T11:19:29.329844Z",
     "start_time": "2024-12-05T11:19:29.316923Z"
    }
   },
   "cell_type": "code",
   "source": [
    "import numpy as np\n",
    "n = 2\n",
    "\n",
    "# res = np.random.rand(2,1)\n",
    "# np.ones((n, n))\n",
    "# print(np.ones((n, n)))\n",
    "\n",
    "max_iterations = 6\n",
    "cons_err2 = np.zeros((max_iterations+1,n))\n",
    "print(cons_err2)"
   ],
   "id": "d69a098509f467c9",
   "outputs": [
    {
     "name": "stdout",
     "output_type": "stream",
     "text": [
      "[[0. 0.]\n",
      " [0. 0.]\n",
      " [0. 0.]\n",
      " [0. 0.]\n",
      " [0. 0.]\n",
      " [0. 0.]\n",
      " [0. 0.]]\n"
     ]
    }
   ],
   "execution_count": 14
  },
  {
   "metadata": {
    "ExecuteTime": {
     "end_time": "2024-12-05T12:31:09.457472Z",
     "start_time": "2024-12-05T12:31:09.452751Z"
    }
   },
   "cell_type": "code",
   "source": [
    "A = np.random.rand(n, n)\n",
    "print(A)\n",
    "size = A.shape[0]\n",
    "print(size)"
   ],
   "id": "edd812146bbbd6b",
   "outputs": [
    {
     "name": "stdout",
     "output_type": "stream",
     "text": [
      "[[0.93467477 0.84926333]\n",
      " [0.7990969  0.24156699]]\n",
      "2\n"
     ]
    }
   ],
   "execution_count": 18
  },
  {
   "metadata": {
    "ExecuteTime": {
     "end_time": "2024-12-09T09:56:01.571963Z",
     "start_time": "2024-12-09T09:32:55.400230Z"
    }
   },
   "cell_type": "code",
   "source": [
    "import numpy as np\n",
    "import json\n",
    "import time\n",
    "import matplotlib.pyplot as plt\n",
    "\n",
    "# Projection utilisée dans l'algorithme\n",
    "def projection(A, b, x):\n",
    "    return x - (np.dot(A, x) - b) / max(np.dot(A, A.T), 1e-9) * A\n",
    "\n",
    "# Fonction pour générer une matrice de pondération W (symétrique)\n",
    "def matrice_W(n):\n",
    "    W = np.eye(n) * 0.5\n",
    "    for i in range(n - 1):\n",
    "        W[i, i + 1] = 0.25\n",
    "        W[i + 1, i] = 0.25\n",
    "    return W\n",
    "\n",
    "# Fonction calculant les erreurs locales\n",
    "def local_error(A, b, X, W, n):\n",
    "    err = np.zeros(n)\n",
    "    disagree = np.zeros(n)\n",
    "\n",
    "    for i in range(n):\n",
    "        err[i] = abs(np.dot(A[i, :], X[:, i]) - b[i])\n",
    "\n",
    "    for i in range(n):\n",
    "        for j in range(n):\n",
    "            if W[i, j] > 0.0:\n",
    "                disagree[i] = max(disagree[i], np.linalg.norm(X[:, i] - X[:, j]))\n",
    "    return err, disagree\n",
    "\n",
    "# Algorithme principal\n",
    "def inertial_projected_consensus_algorithm(A, b, max_iterations=10000, tol=1e-5):\n",
    "    n = len(b)\n",
    "    X_init = 2.0 * np.random.rand(n, n) - np.ones((n, n))\n",
    "    X_i = X_init\n",
    "    Y = np.zeros((n, n))\n",
    "    W = matrice_W(n)\n",
    "    theta = np.zeros(n)\n",
    "    step = np.full(n, float('inf'))\n",
    "    eps = 1e-9\n",
    "\n",
    "    iter = 0\n",
    "    eqn_err, cons_err = np.inf, np.inf\n",
    "    while iter < max_iterations:\n",
    "        iter += 1\n",
    "        for i in range(n):\n",
    "            X_i[:, i] = projection(A[i, :].T, b[i], X_i[:, i])\n",
    "        X_i = np.dot(X_i, W)\n",
    "\n",
    "        for i in range(n):\n",
    "            Y[:, i] = projection(A[i, :].T, b[i], X_i[:, i])\n",
    "        Y = np.dot(Y, W)\n",
    "\n",
    "        for i in range(n):\n",
    "            if abs(np.dot(A[i, :], Y[:, i] - X_i[:, i])) < eps:\n",
    "                theta[i] = float('inf')\n",
    "            else:\n",
    "                theta[i] = (np.dot(A[i, :], X_i[:, i]) - b[i]) / np.dot(A[i, :], X_i[:, i] - Y[:, i])\n",
    "\n",
    "        for i in range(n):\n",
    "            for j in range(n):\n",
    "                if W[i, j] > 0.0 and theta[j] > eps and theta[j] < step[i]:\n",
    "                    step[i] = theta[j]\n",
    "            if step[i] < float('inf'):\n",
    "                step[i] = 1.5 * step[i]\n",
    "                X_i[:, i] = X_i[:, i] + step[i] * (Y[:, i] - X_i[:, i])\n",
    "        X_i = np.dot(X_i, W)\n",
    "\n",
    "        eqn_err, cons_err = local_error(A, b, X_i, W, n)\n",
    "        if max(eqn_err) < tol and max(cons_err) < tol:\n",
    "            break\n",
    "\n",
    "    return iter\n",
    "\n",
    "# Chargement des données JSON\n",
    "with open(\"../ressource/System_of_linear_equations/systems_data_3x3_to_10x10.json\", \"r\") as f:\n",
    "    systems_data = json.load(f)\n",
    "\n",
    "# Variables pour stocker les résultats\n",
    "condition_numbers = []\n",
    "execution_times = []\n",
    "\n",
    "# Boucle sur tous les systèmes dans le fichier JSON\n",
    "for system in systems_data:\n",
    "    A = np.array(system[\"A\"])\n",
    "    b = np.array(system[\"b\"])\n",
    "\n",
    "    # Calcul du nombre de condition de A\n",
    "    cond_number = np.linalg.cond(A)\n",
    "    condition_numbers.append(cond_number)\n",
    "\n",
    "    # Mesure du temps d'exécution\n",
    "    start_time = time.time()\n",
    "    inertial_projected_consensus_algorithm(A, b)\n",
    "    exec_time = time.time() - start_time\n",
    "    execution_times.append(exec_time)\n",
    "\n",
    "# Visualisation des résultats\n",
    "plt.figure(figsize=(10, 6))\n",
    "plt.scatter(condition_numbers, execution_times, color=\"blue\", alpha=0.7)\n",
    "plt.title(\"Relation entre le temps d'exécution et le nombre de condition de la matrice\")\n",
    "plt.xlabel(\"Nombre de condition (cond(A))\")\n",
    "plt.ylabel(\"Temps d'exécution (secondes)\")\n",
    "plt.grid(True)\n",
    "plt.show()\n"
   ],
   "id": "da9d34256535c880",
   "outputs": [
    {
     "name": "stderr",
     "output_type": "stream",
     "text": [
      "C:\\Users\\t-lab\\AppData\\Local\\Temp\\ipykernel_13860\\301913395.py:67: RuntimeWarning: overflow encountered in multiply\n",
      "  X_i[:, i] = X_i[:, i] + step[i] * (Y[:, i] - X_i[:, i])\n",
      "C:\\Users\\t-lab\\AppData\\Local\\Temp\\ipykernel_13860\\301913395.py:29: RuntimeWarning: invalid value encountered in subtract\n",
      "  disagree[i] = max(disagree[i], np.linalg.norm(X[:, i] - X[:, j]))\n",
      "C:\\Users\\t-lab\\AppData\\Local\\Temp\\ipykernel_13860\\301913395.py:8: RuntimeWarning: invalid value encountered in subtract\n",
      "  return x - (np.dot(A, x) - b) / max(np.dot(A, A.T), 1e-9) * A\n",
      "C:\\Users\\t-lab\\AppData\\Local\\Temp\\ipykernel_13860\\301913395.py:66: RuntimeWarning: overflow encountered in scalar multiply\n",
      "  step[i] = 1.5 * step[i]\n"
     ]
    },
    {
     "data": {
      "text/plain": [
       "<Figure size 1000x600 with 1 Axes>"
      ],
      "image/png": "[encoded data removed]"
     },
     "metadata": {},
     "output_type": "display_data"
    }
   ],
   "execution_count": 1
  },
  {
   "metadata": {
    "ExecuteTime": {
     "end_time": "2024-12-10T04:27:26.762944Z",
     "start_time": "2024-12-10T04:03:15.993954Z"
    }
   },
   "cell_type": "code",
   "source": [
    "import numpy as np\n",
    "import json\n",
    "import time\n",
    "import matplotlib.pyplot as plt\n",
    "\n",
    "# Fonction de projection utilisée dans l'algorithme\n",
    "def projection(A, b, x):\n",
    "    return x - (np.dot(A, x) - b) / max(np.dot(A, A.T), 1e-9) * A\n",
    "\n",
    "# Fonction pour générer une matrice de pondération W (symétrique)\n",
    "def matrice_W(n):\n",
    "    W = np.eye(n) * 0.5\n",
    "    for i in range(n - 1):\n",
    "        W[i, i + 1] = 0.25\n",
    "        W[i + 1, i] = 0.25\n",
    "    return W\n",
    "\n",
    "# Fonction de convergence\n",
    "def has_converged(x, x_old, tolerance):\n",
    "    return np.linalg.norm(x - x_old) < tolerance\n",
    "\n",
    "# Algorithme principal modifié\n",
    "def inertial_projected_consensus_algorithm_modified(A, b, max_iterations=10000, tol=1e-5):\n",
    "    n = len(b)\n",
    "    X_init = 2.0 * np.random.rand(n, n) - np.ones((n, n))\n",
    "    X_i = X_init\n",
    "    X_old = np.copy(X_i)\n",
    "    Y = np.zeros((n, n))\n",
    "    W = matrice_W(n)\n",
    "    theta = np.zeros(n)\n",
    "    step = np.full(n, float('inf'))\n",
    "    eps = 1e-9\n",
    "\n",
    "    # Calcul du nombre de condition\n",
    "    cond_number = np.linalg.cond(A)\n",
    "    iter = 0\n",
    "    \n",
    "    eqn_err, cons_err = np.inf, np.inf\n",
    "    while iter < max_iterations:\n",
    "        iter += 1\n",
    "        \n",
    "        # Mise à jour de X\n",
    "        for i in range(n):\n",
    "            X_i[:, i] = projection(A[i, :].T, b[i], X_i[:, i])\n",
    "        X_i = np.dot(X_i, W)\n",
    "\n",
    "        # Mise à jour de Y\n",
    "        for i in range(n):\n",
    "            Y[:, i] = projection(A[i, :].T, b[i], X_i[:, i])\n",
    "        Y = np.dot(Y, W)\n",
    "\n",
    "        # Calcul des paramètres theta\n",
    "        for i in range(n):\n",
    "            if abs(np.dot(A[i, :], Y[:, i] - X_i[:, i])) < eps:\n",
    "                theta[i] = float('inf')\n",
    "            else:\n",
    "                theta[i] = (np.dot(A[i, :], X_i[:, i]) - b[i]) / np.dot(A[i, :], X_i[:, i] - Y[:, i])\n",
    "\n",
    "        # Mise à jour de step et de X\n",
    "        for i in range(n):\n",
    "            for j in range(n):\n",
    "                if W[i, j] > 0.0 and theta[j] > eps and theta[j] < step[i]:\n",
    "                    step[i] = theta[j]\n",
    "            if step[i] < float('inf'):\n",
    "                step[i] = 1.5 * step[i]\n",
    "                X_i[:, i] = X_i[:, i] + step[i] * (Y[:, i] - X_i[:, i])\n",
    "        X_i = np.dot(X_i, W)\n",
    "\n",
    "        # Vérification de la convergence locale\n",
    "        eqn_err, cons_err = local_error(A, b, X_i, W, n)\n",
    "\n",
    "        # Arrêt anticipé basé sur la convergence des itérations\n",
    "        if has_converged(X_i, X_old, tol):\n",
    "            print(f\"Converged in {iter} iterations\")\n",
    "            break\n",
    "        X_old = np.copy(X_i)  # Mettre à jour X_old pour la prochaine itération\n",
    "\n",
    "        # Arrêt basé sur la convergence globale\n",
    "        if max(eqn_err) < tol and max(cons_err) < tol:\n",
    "            print(f\"Converged in {iter} iterations (global tolerance reached)\")\n",
    "            break\n",
    "\n",
    "    return iter\n",
    "\n",
    "# Chargement des données JSON\n",
    "with open(\"../ressource/System_of_linear_equations/systems_data_3x3_to_10x10.json\", \"r\") as f:\n",
    "    systems_data = json.load(f)\n",
    "\n",
    "# Visualisation de la relation entre temps d'exécution et condition number\n",
    "condition_numbers = []\n",
    "execution_times = []\n",
    "\n",
    "for system in systems_data:\n",
    "    A = np.array(system[\"A\"])\n",
    "    b = np.array(system[\"b\"])\n",
    "    \n",
    "    # Calcul du nombre de condition\n",
    "    cond_number = np.linalg.cond(A)\n",
    "    \n",
    "    if cond_number > 500:\n",
    "        pass\n",
    "    \n",
    "    condition_numbers.append(cond_number)\n",
    "\n",
    "    # Mesure du temps d'exécution\n",
    "    start_time = time.time()\n",
    "    inertial_projected_consensus_algorithm_modified(A, b)\n",
    "    exec_time = time.time() - start_time\n",
    "    execution_times.append(exec_time)\n",
    "    print(\"execution_times:\",execution_times,\"condition_numbers:\",condition_numbers,\"iteration\",inertial_projected_consensus_algorithm_modified)\n",
    "# Visualisation\n",
    "plt.figure(figsize=(10, 6))\n",
    "plt.scatter(condition_numbers, execution_times, color=\"green\", alpha=0.7)\n",
    "plt.title(\"Relation entre temps d'exécution et nombre de condition (modifié)\")\n",
    "plt.xlabel(\"Nombre de condition (cond(A))\")\n",
    "plt.ylabel(\"Temps d'exécution (secondes)\")\n",
    "plt.grid(True)\n",
    "plt.show()\n"
   ],
   "id": "ece24d1378a3bc3e",
   "outputs": [
    {
     "name": "stdout",
     "output_type": "stream",
     "text": [
      "Converged in 22 iterations\n"
     ]
    },
    {
     "data": {
      "text/plain": [
       "<Figure size 1000x600 with 1 Axes>"
      ],
      "image/png": "[encoded data removed]"
     },
     "metadata": {},
     "output_type": "display_data"
    }
   ],
   "execution_count": 4
  },
  {
   "metadata": {
    "ExecuteTime": {
     "end_time": "2025-01-06T07:47:06.285958Z",
     "start_time": "2025-01-06T07:47:06.271120Z"
    }
   },
   "cell_type": "code",
   "source": [
    "import numpy as np\n",
    "n=5\n",
    "\n",
    "w = np.ones((n, n)) / n\n",
    "print(w) \n",
    "                                                                         "
   ],
   "id": "ddc0ccd16ab6cf34",
   "outputs": [
    {
     "name": "stdout",
     "output_type": "stream",
     "text": [
      "[[0.2 0.2 0.2 0.2 0.2]\n",
      " [0.2 0.2 0.2 0.2 0.2]\n",
      " [0.2 0.2 0.2 0.2 0.2]\n",
      " [0.2 0.2 0.2 0.2 0.2]\n",
      " [0.2 0.2 0.2 0.2 0.2]]\n"
     ]
    }
   ],
   "execution_count": 4
  },
  {
   "metadata": {},
   "cell_type": "code",
   "outputs": [],
   "execution_count": null,
   "source": "",
   "id": "5621d9e764fcc1c9"
  },
  {
   "metadata": {
    "ExecuteTime": {
     "end_time": "2025-01-06T08:18:34.378431Z",
     "start_time": "2025-01-06T08:18:34.368216Z"
    }
   },
   "cell_type": "code",
   "source": [
    "#Graphe étoile \n",
    "import numpy as np\n",
    "n=5\n",
    "w = np.zeros((n, n))\n",
    "for i in range(1, n):\n",
    "    w[0,i] =1/n-1\n",
    "    w[i,0]=1\n",
    "print(w)"
   ],
   "id": "68c57e87512a05ba",
   "outputs": [
    {
     "name": "stdout",
     "output_type": "stream",
     "text": [
      "[[ 0.  -0.8 -0.8 -0.8 -0.8]\n",
      " [ 1.   0.   0.   0.   0. ]\n",
      " [ 1.   0.   0.   0.   0. ]\n",
      " [ 1.   0.   0.   0.   0. ]\n",
      " [ 1.   0.   0.   0.   0. ]]\n"
     ]
    }
   ],
   "execution_count": 35
  },
  {
   "metadata": {
    "ExecuteTime": {
     "end_time": "2025-01-06T08:49:17.783274Z",
     "start_time": "2025-01-06T08:49:17.768705Z"
    }
   },
   "cell_type": "code",
   "source": [
    "#Graphe path \n",
    "import numpy as np\n",
    "n=5\n",
    "w = np.zeros((n, n))\n",
    "w[0,0] =0.5\n",
    "w[0,1] =0.5\n",
    "w[n-1,n-1] =0.5\n",
    "w[n-1,n-2] =0.5\n",
    "\n",
    "for i in range(1,n-1):\n",
    "    w[i,i+1] =1/2\n",
    "    w[i,i-1] =1/2\n",
    "print(w)"
   ],
   "id": "95fd3c4470219375",
   "outputs": [
    {
     "name": "stdout",
     "output_type": "stream",
     "text": [
      "[[0.5 0.5 0.  0.  0. ]\n",
      " [0.5 0.  0.5 0.  0. ]\n",
      " [0.  0.5 0.  0.5 0. ]\n",
      " [0.  0.  0.5 0.  0.5]\n",
      " [0.  0.  0.  0.5 0.5]]\n"
     ]
    }
   ],
   "execution_count": 45
  },
  {
   "metadata": {
    "ExecuteTime": {
     "end_time": "2025-01-06T08:47:32.919783Z",
     "start_time": "2025-01-06T08:47:32.909368Z"
    }
   },
   "cell_type": "code",
   "source": [
    "#Graphe cyclique \n",
    "import numpy as np\n",
    "n=5\n",
    "w = np.zeros((n, n))\n",
    "for i in range(n):\n",
    "    w[i,i]=1/3\n",
    "    w[i,(i-1)%n]=1/3\n",
    "    w[i,(i+1)%n]=1/3\n",
    "    \n",
    "print(w)"
   ],
   "id": "a8534d4d6f281553",
   "outputs": [
    {
     "name": "stdout",
     "output_type": "stream",
     "text": [
      "[[0.33333333 0.33333333 0.         0.         0.33333333]\n",
      " [0.33333333 0.33333333 0.33333333 0.         0.        ]\n",
      " [0.         0.33333333 0.33333333 0.33333333 0.        ]\n",
      " [0.         0.         0.33333333 0.33333333 0.33333333]\n",
      " [0.33333333 0.         0.         0.33333333 0.33333333]]\n"
     ]
    }
   ],
   "execution_count": 43
  },
  {
   "metadata": {
    "ExecuteTime": {
     "end_time": "2025-01-08T10:19:24.703378Z",
     "start_time": "2025-01-08T10:19:24.685918Z"
    }
   },
   "cell_type": "code",
   "source": [
    "import numpy as np\n",
    "\n",
    "# ============================\n",
    "# Fonction de méthode de Jacobi distribuée\n",
    "# ============================\n",
    "def distributed_jacobi(A, b, W, tol=1e-6, max_iter=1000):\n",
    "    \"\"\"\n",
    "    Résout un système d'équations linéaires Ax = b de manière distribuée avec la méthode de Jacobi.\n",
    "\n",
    "    Arguments :\n",
    "    - A : Matrice de coefficients (chaque agent ne possède qu'une ligne de A)\n",
    "    - b : Vecteur des constantes (chaque agent ne possède qu'une valeur de b)\n",
    "    - W : Matrice de communication (modélise les connexions entre les agents)\n",
    "    - tol : Tolérance pour la convergence\n",
    "    - max_iter : Nombre maximal d'itérations\n",
    "\n",
    "    Retourne :\n",
    "    - x : Solution approchée du système linéaire\n",
    "    \"\"\"\n",
    "    n = len(b)  # Nombre d'agents\n",
    "    x = np.zeros(n)  # Initialisation des estimations de la solution (vecteur partagé entre agents)\n",
    "    x_prev = np.zeros(n)  # Stocke la solution de l'itération précédente\n",
    "    x_true = np.linalg.solve(A, b)\n",
    "    \n",
    "    # Vérifie que la matrice de communication W est valide\n",
    "    if not is_communication_graph_valid(W):\n",
    "        raise ValueError(\"La matrice de communication W ne connecte pas tous les agents.\")\n",
    "\n",
    "    # Itérations de la méthode de Jacobi\n",
    "    for iteration in range(max_iter):\n",
    "        # Calcul de la nouvelle estimation locale de chaque agent\n",
    "        for i in range(n):\n",
    "            sum_neighbors = 0\n",
    "            for j in range(n):\n",
    "                if i != j:  # On ignore la diagonale d'A\n",
    "                    sum_neighbors += A[i, j] * x_prev[j]\n",
    "            x[i] = (b[i] - sum_neighbors) / A[i, i]  # Calcul de la solution locale\n",
    "\n",
    "        # Communication entre agents (via W)\n",
    "        x = np.dot(W, x)  # Partage des solutions intermédiaires via la matrice de communication\n",
    "\n",
    "        # Critère de convergence\n",
    "        if np.linalg.norm(x - x_prev) < tol:\n",
    "            print(f\"Convergence atteinte en {iteration + 1} itérations.\")\n",
    "            return x\n",
    "\n",
    "        # Mise à jour pour l'itération suivante\n",
    "        x_prev = x.copy()\n",
    "\n",
    "    print(\"La méthode de Jacobi n'a pas convergé après le nombre maximal d'itérations.\")\n",
    "    return x\n",
    "\n",
    "# ============================\n",
    "# Fonction pour valider la matrice de communication\n",
    "# ============================\n",
    "def is_communication_graph_valid(W):\n",
    "    \"\"\"\n",
    "    Vérifie que tous les agents peuvent communiquer (le graphe de communication est connexe).\n",
    "\n",
    "    Arguments :\n",
    "    - W : Matrice de communication\n",
    "\n",
    "    Retourne :\n",
    "    - True si tous les agents sont connectés, False sinon.\n",
    "    \"\"\"\n",
    "    n = W.shape[0]\n",
    "    visited = np.zeros(n)\n",
    "\n",
    "    # Parcours en profondeur pour vérifier la connexité\n",
    "    def dfs(node):\n",
    "        visited[node] = 1\n",
    "        for neighbor in range(n):\n",
    "            if W[node, neighbor] > 0 and visited[neighbor] == 0:\n",
    "                dfs(neighbor)\n",
    "\n",
    "    dfs(0)  # Commence avec le premier agent\n",
    "    return np.all(visited)\n",
    "\n",
    "# ============================\n",
    "# Exemple d'utilisation\n",
    "# ============================\n",
    "if __name__ == \"__main__\":\n",
    "    # Exemple : 3 agents (3 équations linéaires)\n",
    "    A = np.array([[4, -1, 0],\n",
    "              [-1, 4, -1],\n",
    "              [0, -1, 3]])\n",
    "    \n",
    "    b = np.array([15, 10, 10])\n",
    "\n",
    "    # Exemple de matrice de communication (graphe complet)\n",
    "    n = len(b)\n",
    "    W = w = np.ones((n, n)) / n\n",
    "\n",
    "\n",
    "    # Résolution avec la méthode de Jacobi distribuée\n",
    "    x_approx = distributed_jacobi(A, b, W)\n",
    "\n",
    "    # Affichage de la solution approchée\n",
    "    print(\"Solution approchée :\", x_approx)\n",
    "\n",
    "    # Vérification avec la solution exacte\n",
    "    x_true = np.linalg.solve(A, b)\n",
    "    print(\"Solution exacte :\", x_true)"
   ],
   "id": "4df2028d58d7c87b",
   "outputs": [
    {
     "name": "stdout",
     "output_type": "stream",
     "text": [
      "Convergence atteinte en 17 itérations.\n",
      "Solution approchée : [4.99999985 4.99999985 4.99999985]\n",
      "Solution exacte : [5. 5. 5.]\n"
     ]
    }
   ],
   "execution_count": 4
  },
  {
   "metadata": {
    "ExecuteTime": {
     "end_time": "2025-01-09T07:16:41.320635Z",
     "start_time": "2025-01-09T07:16:41.195733Z"
    }
   },
   "cell_type": "code",
   "source": [
    "import numpy as np\n",
    "\n",
    "def projection(A_row, b_val, x):\n",
    "    \"\"\"\n",
    "    Projette x sur l'hyperplan défini par A_row @ x = b_val.\n",
    "    \"\"\"\n",
    "    numerator = b_val - np.dot(A_row, x)\n",
    "    denominator = np.dot(A_row, A_row)\n",
    "    if denominator == 0:  # Pour éviter une division par zéro\n",
    "        return x\n",
    "    return x + (numerator / denominator) * A_row\n",
    "\n",
    "\n",
    "def local_error(A, b, X_s, W):\n",
    "    \"\"\"\n",
    "    Calcule les erreurs locales pour les contraintes et le consensus.\n",
    "    \"\"\"\n",
    "    n = A.shape[0]\n",
    "    eqn_err = np.zeros(n)\n",
    "    cons_err = np.zeros(n)\n",
    "    for i in range(n):\n",
    "        eqn_err[i] = abs(np.dot(A[i, :], X_s[:, i]) - b[i])\n",
    "        cons_err[i] = np.linalg.norm(X_s[:, i] - np.dot(X_s, W[:, i]))\n",
    "    return eqn_err, cons_err\n",
    "\n",
    "\n",
    "def global_error(A, b, X_s):\n",
    "    \"\"\"\n",
    "    Calcule l'erreur globale pour l'ensemble des agents.\n",
    "    \"\"\"\n",
    "    return np.linalg.norm(np.dot(A, X_s.mean(axis=1)) - b)\n",
    "\n",
    "\n",
    "def projected_consensus_algorithm(A, b, W, X_init, tol=1e-6, max_iter=1000):\n",
    "    \"\"\"\n",
    "    Implémente l'algorithme de consensus projeté pour résoudre le système.\n",
    "    \n",
    "    Args:\n",
    "        A (np.array): Matrice des coefficients (n x m).\n",
    "        b (np.array): Vecteur des termes constants (n,).\n",
    "        W (np.array): Matrice de poids (n x n).\n",
    "        X_init (np.array): Matrice initiale des solutions (m x n).\n",
    "        tol (float): Tolérance pour les critères d'arrêt.\n",
    "        max_iter (int): Nombre maximum d'itérations.\n",
    "    \n",
    "    Returns:\n",
    "        np.array: Solution finale X_s.\n",
    "    \"\"\"\n",
    "    n = A.shape[0]\n",
    "    iter1 = 0\n",
    "    X_s = X_init.copy()  # Copie pour ne pas modifier l'original\n",
    "    eqn_err1 = np.zeros((max_iter, n))\n",
    "    cons_err1 = np.zeros((max_iter, n))\n",
    "    glob_err1 = np.zeros(max_iter)\n",
    "\n",
    "    # Boucle principale\n",
    "    while iter1 < max_iter:\n",
    "        # Vérifie les erreurs pour arrêter la boucle\n",
    "        if iter1 > 0 and max(eqn_err1[iter1 - 1, :]) <= tol and max(cons_err1[iter1 - 1, :]) <= tol:\n",
    "            break\n",
    "\n",
    "        iter1 += 1\n",
    "\n",
    "        # Mise à jour locale\n",
    "        for i in range(n):\n",
    "            X_s[:, i] = projection(A[i, :], b[i], X_s[:, i])\n",
    "\n",
    "        # Consensus\n",
    "        X_s = np.dot(X_s, W.T)\n",
    "\n",
    "        # Calcul des erreurs\n",
    "        eqn_err1[iter1 - 1, :], cons_err1[iter1 - 1, :] = local_error(A, b, X_s, W)\n",
    "        glob_err1[iter1 - 1] = global_error(A, b, X_s)\n",
    "\n",
    "    print(f\"Algorithme convergé en {iter1} itérations avec une erreur globale de {glob_err1[iter1 - 1]:.6f}\")\n",
    "    return X_s.mean(axis=1)  # Retourne la moyenne des solutions comme consensus final\n",
    "\n",
    "\n",
    "# Exemple d'utilisation\n",
    "if __name__ == \"__main__\":\n",
    "    A = np.array([[4, 1, 2],\n",
    "                  [3, 5, 1],\n",
    "                  [1, 1, 3]])\n",
    "\n",
    "    b = np.array([4, 7, 3])\n",
    "\n",
    "    W = np.array([[0.5, 0.25, 0.25],\n",
    "                  [0.25, 0.5, 0.25],\n",
    "                  [0.25, 0.25, 0.5]])  # Matrice de poids (symétrique et stochastique)\n",
    "\n",
    "    X_init = np.random.rand(A.shape[1], A.shape[0])  # Initialisation aléatoire\n",
    "\n",
    "    solution = projected_consensus_algorithm(A, b, W, X_init)\n",
    "    print(\"Solution finale :\", solution)\n"
   ],
   "id": "cd5bcada0b427f00",
   "outputs": [
    {
     "name": "stdout",
     "output_type": "stream",
     "text": [
      "Algorithme convergé en 220 itérations avec une erreur globale de 0.000002\n",
      "Solution finale : [0.50000054 0.99999956 0.49999978]\n"
     ]
    }
   ],
   "execution_count": 5
  },
  {
   "metadata": {
    "ExecuteTime": {
     "end_time": "2025-01-10T05:44:48.693527Z",
     "start_time": "2025-01-10T05:44:47.267223Z"
    }
   },
   "cell_type": "code",
   "source": [
    "import numpy as np\n",
    "import matplotlib.pyplot as plt\n",
    "\n",
    "# =============================\n",
    "# Fonction de projection\n",
    "# =============================\n",
    "def projection(b_i, c_i, x):\n",
    "    \"\"\"\n",
    "    Projette x sur l'ensemble Xi = {x | b_i^T x = c_i, x >= 0}.\n",
    "    Si l'ensemble est vide, retourne -1.\n",
    "    \"\"\"\n",
    "    y = x.copy()\n",
    "    if np.dot(b_i, b_i) == 0:  # Cas pathologique (b_i = 0)\n",
    "        return -1 if c_i != 0 else y\n",
    "    alpha = (c_i - np.dot(b_i, y)) / np.dot(b_i, b_i)  # Correction pour respecter b_i^T y = c_i\n",
    "    y += alpha * b_i  # Ajuste y dans la direction de b_i\n",
    "    y = np.maximum(y, 0)  # Applique la contrainte x >= 0\n",
    "    return y\n",
    "\n",
    "# =============================\n",
    "# Matrice de communication\n",
    "# =============================\n",
    "def generate_weight_matrix(n):\n",
    "    \"\"\"\n",
    "    Génère une matrice de communication symétrique (étoile, chaîne, ou autre).\n",
    "    \"\"\"\n",
    "    W = np.ones((n, n)) / n  # Matrice uniformément pondérée\n",
    "    return W\n",
    "\n",
    "# =============================\n",
    "# Algorithme de consensus projeté\n",
    "# =============================\n",
    "def simple_projected_consensus(A, b, X_init, W, tol=1e-6, max_iter=1000):\n",
    "    \"\"\"\n",
    "    Algorithme simple de consensus projeté pour résoudre Ax = b.\n",
    "    \"\"\"\n",
    "    n = len(b)  # Nombre d'agents\n",
    "    iter1 = 0\n",
    "    X_s = X_init.copy()\n",
    "    \n",
    "    # Erreurs pour l'analyse\n",
    "    eqn_err = []\n",
    "    cons_err = []\n",
    "    x_erro_simple_projected_consensus = []\n",
    "    \n",
    "    while iter1 < max_iter:\n",
    "        # Mettre à jour les erreurs pour les critères d'arrêt\n",
    "        eqn_errors = [abs(np.dot(A[i], X_s[:, i]) - b[i]) for i in range(n)]\n",
    "        consensus_errors = [np.linalg.norm(X_s[:, i] - np.mean(X_s, axis=1)) for i in range(n)]\n",
    "        \n",
    "        eqn_err.append(max(eqn_errors))\n",
    "        cons_err.append(max(consensus_errors))\n",
    "        \n",
    "        \n",
    "        \n",
    "        if max(eqn_errors) < tol and max(consensus_errors) < tol:\n",
    "            break\n",
    "\n",
    "        # Algorithme : Projections et consensus\n",
    "        for i in range(n):\n",
    "            X_s[:, i] = projection(A[i], b[i], X_s[:, i])  # Projection locale\n",
    "        X_s = np.dot(X_s, W.T)  # Mise à jour via la matrice de communication\n",
    "        \n",
    "        x_mean = np.mean(X_s, axis=1)  # Moyenne des estimations\n",
    "        error = np.linalg.norm(true_solution - x_mean)  # Différence avec la solution exacte\n",
    "        x_erro_simple_projected_consensus.append(error)\n",
    "    \n",
    "        iter1 += 1\n",
    "\n",
    "    return X_s, eqn_err, cons_err ,x_erro_simple_projected_consensus\n",
    "\n",
    "# =============================\n",
    "# Exemple\n",
    "# =============================\n",
    "if __name__ == \"__main__\":\n",
    "    # Matrice A et vecteur b\n",
    "    A = np.array([[4, 1, 2],\n",
    "                  [3, 5, 1],\n",
    "                  [1, 1, 3]])\n",
    "    b = np.array([4, 7, 3])\n",
    "\n",
    "    # Initialisation aléatoire\n",
    "    n = len(b)\n",
    "    X_init = np.random.rand(len(A[0]), n)\n",
    "\n",
    "    # Génération de la matrice de communication\n",
    "    W = generate_weight_matrix(n)\n",
    "\n",
    "    # Appel de l'algorithme\n",
    "    X_s, eqn_err, cons_err = simple_projected_consensus(A, b, X_init, W)\n",
    "\n",
    "    # Affichage des résultats\n",
    "    print(\"Solution distribuée obtenue :\")\n",
    "    print(X_s.mean(axis=1))  # Moyenne de X_s (consensus)\n",
    "    print(\"Solution exacte (np.linalg.solve) :\")\n",
    "    print(np.linalg.solve(A, b))  # Pour comparer avec la solution exacte\n",
    "\n",
    "    # Tracé des erreurs\n",
    "    plt.figure(figsize=(10, 5))\n",
    "    plt.plot(eqn_err, label=\"Erreur des équations\")\n",
    "    plt.plot(cons_err, label=\"Erreur de consensus\")\n",
    "    plt.yscale(\"log\")\n",
    "    plt.xlabel(\"Itérations\")\n",
    "    plt.ylabel(\"Erreur (échelle log)\")\n",
    "    plt.legend()\n",
    "    plt.title(\"Convergence de l'algorithme\")\n",
    "    plt.show()\n"
   ],
   "id": "64925f1af2d3e7ec",
   "outputs": [
    {
     "name": "stdout",
     "output_type": "stream",
     "text": [
      "Solution distribuée obtenue :\n",
      "[0.50000039 0.99999968 0.49999984]\n",
      "Solution exacte (np.linalg.solve) :\n",
      "[0.5 1.  0.5]\n"
     ]
    },
    {
     "data": {
      "text/plain": [
       "<Figure size 1000x500 with 1 Axes>"
      ],
      "image/png": "[encoded data removed]"
     },
     "metadata": {},
     "output_type": "display_data"
    }
   ],
   "execution_count": 1
  },
  {
   "metadata": {
    "ExecuteTime": {
     "end_time": "2025-01-10T05:52:36.566769Z",
     "start_time": "2025-01-10T05:52:36.133762Z"
    }
   },
   "cell_type": "code",
   "source": [
    "import numpy as np\n",
    "import matplotlib.pyplot as plt\n",
    "\n",
    "# Fonction de projection définie précédemment\n",
    "def projection(bi, ci, x):\n",
    "    \"\"\"\n",
    "    Projection de x sur l'ensemble défini par {x | b_i * x = c_i, x >= 0}.\n",
    "    \"\"\"\n",
    "    if np.dot(bi, bi) == 0:\n",
    "        return -1  # Ensemble vide\n",
    "    alpha = (ci - np.dot(bi, x)) / np.dot(bi, bi)\n",
    "    y = x + alpha * bi\n",
    "    return np.maximum(y, 0)  # Assure x >= 0\n",
    "\n",
    "# Données du problème\n",
    "A = np.array([[4, 1, 2],\n",
    "              [3, 5, 1],\n",
    "              [1, 1, 3]])\n",
    "\n",
    "b = np.array([4, 7, 3])\n",
    "n = A.shape[0]\n",
    "true_solution = np.linalg.solve(A, b)\n",
    "\n",
    "# Matrice de communication (étoile)\n",
    "W = (1/n) * np.ones((n, n))\n",
    "\n",
    "# Initialisation\n",
    "X_init = np.random.rand(A.shape[1], n)  # Initialisation aléatoire\n",
    "tol = 1e-6\n",
    "max_iter = 1000\n",
    "X_s = X_init.copy()\n",
    "\n",
    "# Suivi des erreurs\n",
    "x_erro_simple_projected_consensus = []\n",
    "\n",
    "# Simple Projected Consensus Algorithm\n",
    "iter1 = 0\n",
    "while iter1 < max_iter:\n",
    "    iter1 += 1\n",
    "    \n",
    "    # Étape de projection\n",
    "    for i in range(n):\n",
    "        X_s[:, i] = projection(A[i, :].T, b[i], X_s[:, i])\n",
    "    \n",
    "    # Étape de consensus\n",
    "    X_s = np.dot(X_s, W.T)\n",
    "    \n",
    "    # Calcul de l'erreur\n",
    "    x_mean = np.mean(X_s, axis=1)  # Moyenne des estimations\n",
    "    error = np.linalg.norm(true_solution - x_mean)  # Différence avec la solution exacte\n",
    "    x_erro_simple_projected_consensus.append(error)\n",
    "    \n",
    "    # Condition d'arrêt\n",
    "    if error < tol:\n",
    "        break\n",
    "\n",
    "# Résultats\n",
    "print(\"Solution trouvée : \", x_mean)\n",
    "print(\"Erreur finale : \", x_erro_simple_projected_consensus[-1])\n",
    "print(\"Nombre d'itérations : \", iter1)\n",
    "\n",
    "# Graphique des erreurs\n",
    "plt.figure(figsize=(10, 6))\n",
    "plt.plot(x_erro_simple_projected_consensus, label=\"Erreur à chaque itération\")\n",
    "plt.yscale('log')\n",
    "plt.xlabel(\"Itérations\")\n",
    "plt.ylabel(\"Erreur (norme)\")\n",
    "plt.title(\"Convergence du Simple Projected Consensus Algorithm\")\n",
    "plt.legend()\n",
    "plt.grid()\n",
    "plt.show()\n"
   ],
   "id": "2a99f472fc514095",
   "outputs": [
    {
     "name": "stdout",
     "output_type": "stream",
     "text": [
      "Solution trouvée :  [0.50000068 0.99999944 0.49999973]\n",
      "Erreur finale :  9.223947575630327e-07\n",
      "Nombre d'itérations :  153\n"
     ]
    },
    {
     "data": {
      "text/plain": [
       "<Figure size 1000x600 with 1 Axes>"
      ],
      "image/png": "[encoded data removed]"
     },
     "metadata": {},
     "output_type": "display_data"
    }
   ],
   "execution_count": 2
  },
  {
   "metadata": {
    "ExecuteTime": {
     "end_time": "2025-01-10T06:43:22.619934Z",
     "start_time": "2025-01-10T06:43:22.529201Z"
    }
   },
   "cell_type": "code",
   "source": [
    "X_init = np.random.rand(A.shape[1], n)\n",
    "\n",
    "print(X_init)"
   ],
   "id": "e798ca631dc062e5",
   "outputs": [
    {
     "name": "stdout",
     "output_type": "stream",
     "text": [
      "[[0.85285403 0.19842378 0.22998608]\n",
      " [0.09181873 0.72226207 0.22723079]\n",
      " [0.50472743 0.64703317 0.20874162]]\n"
     ]
    }
   ],
   "execution_count": 3
  },
  {
   "metadata": {
    "ExecuteTime": {
     "end_time": "2025-01-10T09:44:53.003295Z",
     "start_time": "2025-01-10T09:44:52.959021Z"
    }
   },
   "cell_type": "code",
   "source": [
    "import numpy as np\n",
    "from numpy.linalg import solve\n",
    "from Comunication_matrix import complete_graph\n",
    "import matplotlib.pyplot as plt\n",
    "\n",
    "def Inertial_Projected_Consensus_Algorithm(A, b, x_init, W, max_iter=1000, tol=1e-5):\n",
    "    \"\"\"\n",
    "    Algorithme de consensus projeté inertiel pour résoudre Ax = b.\n",
    "\n",
    "    Args:\n",
    "        A : Matrice des coefficients (n x n).\n",
    "        b : Vecteur des constantes (n,).\n",
    "        x_init : Initialisation (n,).\n",
    "        W : Matrice de communication (n x n).\n",
    "        max_iter : Nombre maximal d'itérations.\n",
    "        tol : Tolérance pour la convergence.\n",
    "\n",
    "    Returns:\n",
    "        x : Solution approchée.\n",
    "        iter_count : Nombre d'itérations réalisées.\n",
    "        errors : Liste des erreurs globales.\n",
    "    \"\"\"\n",
    "    n = len(b)\n",
    "    x = x_init.copy()  # Initialisation\n",
    "    errors = []  # Liste des erreurs globales\n",
    "    true_solution = solve(A, b)  # Solution exacte pour référence\n",
    "\n",
    "    def projection(a, bi, xi):\n",
    "        \"\"\"\n",
    "        Projection de xi sur l'hyperplan défini par {x | a @ x = bi}.\n",
    "        \"\"\"\n",
    "        norm_a = np.linalg.norm(a)\n",
    "        if norm_a > 0:\n",
    "            correction = (bi - np.dot(a, xi)) / norm_a**2\n",
    "            return xi + correction * a\n",
    "        return xi  # Aucun changement si a est nul\n",
    "\n",
    "    # Main iterative loop\n",
    "    for iteration in range(max_iter):\n",
    "        x_old = x.copy()\n",
    "\n",
    "        # Mise à jour par projection locale pour chaque agent\n",
    "        for i in range(n):\n",
    "            x = projection(A[i, :], b[i], x)\n",
    "\n",
    "        # Consensus via la matrice de communication\n",
    "        x = np.dot(W, x)\n",
    "\n",
    "        # Calcul de l'erreur globale\n",
    "        error = np.linalg.norm(true_solution - x)\n",
    "        errors.append(error)\n",
    "\n",
    "        # Condition d'arrêt\n",
    "        if error < tol:\n",
    "            print(f\"Convergence atteinte après {iteration + 1} itérations.\")\n",
    "            return x, iteration + 1, errors\n",
    "\n",
    "    print(\"Convergence non atteinte après le nombre maximal d'itérations.\")\n",
    "    return x, max_iter, errors\n",
    "\n",
    "\n",
    "# ============================\n",
    "# Exemple d'utilisation\n",
    "# ============================\n",
    "if __name__ == \"__main__\":\n",
    "    # Définition du problème\n",
    "    A = np.array([[4, 1, 2],\n",
    "                  [3, 5, 1],\n",
    "                  [1, 1, 3]], dtype=float)\n",
    "    b = np.array([4, 7, 3], dtype=float)\n",
    "\n",
    "    # Matrice de communication (graphe complet)\n",
    "    W = complete_graph(len(b))\n",
    "    x_init = np.random.rand(len(b))  # Initialisation aléatoire\n",
    "\n",
    "    # Appel de l'algorithme\n",
    "    x_approx, iterations, errors = Inertial_Projected_Consensus_Algorithm(A, b, x_init, W, max_iter=1000)\n",
    "\n",
    "    # Affichage des résultats\n",
    "    print(\"Solution approximée :\", errors)\n",
    "    print(\"Solution exacte :\", solve(A, b))\n",
    "    print(\"Nombre d'itérations :\", iterations)\n",
    "\n",
    "    # Tracé des erreurs\n",
    "\n",
    "    # plt.figure(figsize=(10, 6))\n",
    "    # plt.plot(errors, label=\"Erreur globale\")\n",
    "    # plt.yscale('log')\n",
    "    # plt.xlabel(\"Itérations\")\n",
    "    # plt.ylabel(\"Erreur (norme)\")\n",
    "    # plt.title(\"Convergence de l'algorithme de consensus projeté inertiel\")\n",
    "    # plt.legend()\n",
    "    # plt.grid()\n",
    "    # plt.show()\n"
   ],
   "id": "84323131da3038a",
   "outputs": [
    {
     "name": "stdout",
     "output_type": "stream",
     "text": [
      "Convergence non atteinte après le nombre maximal d'itérations.\n",
      "Solution approximée : [0.4085944669158375, 0.40872433531014757, 0.4085916564226741, 0.4086016472310668, 0.4086008287775586, 0.4086008953522006, 0.40860088993377, 0.40860089037474895, 0.40860089033885977, 0.40860089034178054, 0.40860089034154284, 0.40860089034156216, 0.4086008903415606, 0.4086008903415608, 0.4086008903415608, 0.4086008903415608, 0.4086008903415608, 0.4086008903415608, 0.4086008903415608, 0.4086008903415608, 0.4086008903415608, 0.4086008903415608, 0.4086008903415608, 0.4086008903415608, 0.4086008903415608, 0.4086008903415608, 0.4086008903415608, 0.4086008903415608, 0.4086008903415608, 0.4086008903415608, 0.4086008903415608, 0.4086008903415608, 0.4086008903415608, 0.4086008903415608, 0.4086008903415608, 0.4086008903415608, 0.4086008903415608, 0.4086008903415608, 0.4086008903415608, 0.4086008903415608, 0.4086008903415608, 0.4086008903415608, 0.4086008903415608, 0.4086008903415608, 0.4086008903415608, 0.4086008903415608, 0.4086008903415608, 0.4086008903415608, 0.4086008903415608, 0.4086008903415608, 0.4086008903415608, 0.4086008903415608, 0.4086008903415608, 0.4086008903415608, 0.4086008903415608, 0.4086008903415608, 0.4086008903415608, 0.4086008903415608, 0.4086008903415608, 0.4086008903415608, 0.4086008903415608, 0.4086008903415608, 0.4086008903415608, 0.4086008903415608, 0.4086008903415608, 0.4086008903415608, 0.4086008903415608, 0.4086008903415608, 0.4086008903415608, 0.4086008903415608, 0.4086008903415608, 0.4086008903415608, 0.4086008903415608, 0.4086008903415608, 0.4086008903415608, 0.4086008903415608, 0.4086008903415608, 0.4086008903415608, 0.4086008903415608, 0.4086008903415608, 0.4086008903415608, 0.4086008903415608, 0.4086008903415608, 0.4086008903415608, 0.4086008903415608, 0.4086008903415608, 0.4086008903415608, 0.4086008903415608, 0.4086008903415608, 0.4086008903415608, 0.4086008903415608, 0.4086008903415608, 0.4086008903415608, 0.4086008903415608, 0.4086008903415608, 0.4086008903415608, 0.4086008903415608, 0.4086008903415608, 0.4086008903415608, 0.4086008903415608, 0.4086008903415608, 0.4086008903415608, 0.4086008903415608, 0.4086008903415608, 0.4086008903415608, 0.4086008903415608, 0.4086008903415608, 0.4086008903415608, 0.4086008903415608, 0.4086008903415608, 0.4086008903415608, 0.4086008903415608, 0.4086008903415608, 0.4086008903415608, 0.4086008903415608, 0.4086008903415608, 0.4086008903415608, 0.4086008903415608, 0.4086008903415608, 0.4086008903415608, 0.4086008903415608, 0.4086008903415608, 0.4086008903415608, 0.4086008903415608, 0.4086008903415608, 0.4086008903415608, 0.4086008903415608, 0.4086008903415608, 0.4086008903415608, 0.4086008903415608, 0.4086008903415608, 0.4086008903415608, 0.4086008903415608, 0.4086008903415608, 0.4086008903415608, 0.4086008903415608, 0.4086008903415608, 0.4086008903415608, 0.4086008903415608, 0.4086008903415608, 0.4086008903415608, 0.4086008903415608, 0.4086008903415608, 0.4086008903415608, 0.4086008903415608, 0.4086008903415608, 0.4086008903415608, 0.4086008903415608, 0.4086008903415608, 0.4086008903415608, 0.4086008903415608, 0.4086008903415608, 0.4086008903415608, 0.4086008903415608, 0.4086008903415608, 0.4086008903415608, 0.4086008903415608, 0.4086008903415608, 0.4086008903415608, 0.4086008903415608, 0.4086008903415608, 0.4086008903415608, 0.4086008903415608, 0.4086008903415608, 0.4086008903415608, 0.4086008903415608, 0.4086008903415608, 0.4086008903415608, 0.4086008903415608, 0.4086008903415608, 0.4086008903415608, 0.4086008903415608, 0.4086008903415608, 0.4086008903415608, 0.4086008903415608, 0.4086008903415608, 0.4086008903415608, 0.4086008903415608, 0.4086008903415608, 0.4086008903415608, 0.4086008903415608, 0.4086008903415608, 0.4086008903415608, 0.4086008903415608, 0.4086008903415608, 0.4086008903415608, 0.4086008903415608, 0.4086008903415608, 0.4086008903415608, 0.4086008903415608, 0.4086008903415608, 0.4086008903415608, 0.4086008903415608, 0.4086008903415608, 0.4086008903415608, 0.4086008903415608, 0.4086008903415608, 0.4086008903415608, 0.4086008903415608, 0.4086008903415608, 0.4086008903415608, 0.4086008903415608, 0.4086008903415608, 0.4086008903415608, 0.4086008903415608, 0.4086008903415608, 0.4086008903415608, 0.4086008903415608, 0.4086008903415608, 0.4086008903415608, 0.4086008903415608, 0.4086008903415608, 0.4086008903415608, 0.4086008903415608, 0.4086008903415608, 0.4086008903415608, 0.4086008903415608, 0.4086008903415608, 0.4086008903415608, 0.4086008903415608, 0.4086008903415608, 0.4086008903415608, 0.4086008903415608, 0.4086008903415608, 0.4086008903415608, 0.4086008903415608, 0.4086008903415608, 0.4086008903415608, 0.4086008903415608, 0.4086008903415608, 0.4086008903415608, 0.4086008903415608, 0.4086008903415608, 0.4086008903415608, 0.4086008903415608, 0.4086008903415608, 0.4086008903415608, 0.4086008903415608, 0.4086008903415608, 0.4086008903415608, 0.4086008903415608, 0.4086008903415608, 0.4086008903415608, 0.4086008903415608, 0.4086008903415608, 0.4086008903415608, 0.4086008903415608, 0.4086008903415608, 0.4086008903415608, 0.4086008903415608, 0.4086008903415608, 0.4086008903415608, 0.4086008903415608, 0.4086008903415608, 0.4086008903415608, 0.4086008903415608, 0.4086008903415608, 0.4086008903415608, 0.4086008903415608, 0.4086008903415608, 0.4086008903415608, 0.4086008903415608, 0.4086008903415608, 0.4086008903415608, 0.4086008903415608, 0.4086008903415608, 0.4086008903415608, 0.4086008903415608, 0.4086008903415608, 0.4086008903415608, 0.4086008903415608, 0.4086008903415608, 0.4086008903415608, 0.4086008903415608, 0.4086008903415608, 0.4086008903415608, 0.4086008903415608, 0.4086008903415608, 0.4086008903415608, 0.4086008903415608, 0.4086008903415608, 0.4086008903415608, 0.4086008903415608, 0.4086008903415608, 0.4086008903415608, 0.4086008903415608, 0.4086008903415608, 0.4086008903415608, 0.4086008903415608, 0.4086008903415608, 0.4086008903415608, 0.4086008903415608, 0.4086008903415608, 0.4086008903415608, 0.4086008903415608, 0.4086008903415608, 0.4086008903415608, 0.4086008903415608, 0.4086008903415608, 0.4086008903415608, 0.4086008903415608, 0.4086008903415608, 0.4086008903415608, 0.4086008903415608, 0.4086008903415608, 0.4086008903415608, 0.4086008903415608, 0.4086008903415608, 0.4086008903415608, 0.4086008903415608, 0.4086008903415608, 0.4086008903415608, 0.4086008903415608, 0.4086008903415608, 0.4086008903415608, 0.4086008903415608, 0.4086008903415608, 0.4086008903415608, 0.4086008903415608, 0.4086008903415608, 0.4086008903415608, 0.4086008903415608, 0.4086008903415608, 0.4086008903415608, 0.4086008903415608, 0.4086008903415608, 0.4086008903415608, 0.4086008903415608, 0.4086008903415608, 0.4086008903415608, 0.4086008903415608, 0.4086008903415608, 0.4086008903415608, 0.4086008903415608, 0.4086008903415608, 0.4086008903415608, 0.4086008903415608, 0.4086008903415608, 0.4086008903415608, 0.4086008903415608, 0.4086008903415608, 0.4086008903415608, 0.4086008903415608, 0.4086008903415608, 0.4086008903415608, 0.4086008903415608, 0.4086008903415608, 0.4086008903415608, 0.4086008903415608, 0.4086008903415608, 0.4086008903415608, 0.4086008903415608, 0.4086008903415608, 0.4086008903415608, 0.4086008903415608, 0.4086008903415608, 0.4086008903415608, 0.4086008903415608, 0.4086008903415608, 0.4086008903415608, 0.4086008903415608, 0.4086008903415608, 0.4086008903415608, 0.4086008903415608, 0.4086008903415608, 0.4086008903415608, 0.4086008903415608, 0.4086008903415608, 0.4086008903415608, 0.4086008903415608, 0.4086008903415608, 0.4086008903415608, 0.4086008903415608, 0.4086008903415608, 0.4086008903415608, 0.4086008903415608, 0.4086008903415608, 0.4086008903415608, 0.4086008903415608, 0.4086008903415608, 0.4086008903415608, 0.4086008903415608, 0.4086008903415608, 0.4086008903415608, 0.4086008903415608, 0.4086008903415608, 0.4086008903415608, 0.4086008903415608, 0.4086008903415608, 0.4086008903415608, 0.4086008903415608, 0.4086008903415608, 0.4086008903415608, 0.4086008903415608, 0.4086008903415608, 0.4086008903415608, 0.4086008903415608, 0.4086008903415608, 0.4086008903415608, 0.4086008903415608, 0.4086008903415608, 0.4086008903415608, 0.4086008903415608, 0.4086008903415608, 0.4086008903415608, 0.4086008903415608, 0.4086008903415608, 0.4086008903415608, 0.4086008903415608, 0.4086008903415608, 0.4086008903415608, 0.4086008903415608, 0.4086008903415608, 0.4086008903415608, 0.4086008903415608, 0.4086008903415608, 0.4086008903415608, 0.4086008903415608, 0.4086008903415608, 0.4086008903415608, 0.4086008903415608, 0.4086008903415608, 0.4086008903415608, 0.4086008903415608, 0.4086008903415608, 0.4086008903415608, 0.4086008903415608, 0.4086008903415608, 0.4086008903415608, 0.4086008903415608, 0.4086008903415608, 0.4086008903415608, 0.4086008903415608, 0.4086008903415608, 0.4086008903415608, 0.4086008903415608, 0.4086008903415608, 0.4086008903415608, 0.4086008903415608, 0.4086008903415608, 0.4086008903415608, 0.4086008903415608, 0.4086008903415608, 0.4086008903415608, 0.4086008903415608, 0.4086008903415608, 0.4086008903415608, 0.4086008903415608, 0.4086008903415608, 0.4086008903415608, 0.4086008903415608, 0.4086008903415608, 0.4086008903415608, 0.4086008903415608, 0.4086008903415608, 0.4086008903415608, 0.4086008903415608, 0.4086008903415608, 0.4086008903415608, 0.4086008903415608, 0.4086008903415608, 0.4086008903415608, 0.4086008903415608, 0.4086008903415608, 0.4086008903415608, 0.4086008903415608, 0.4086008903415608, 0.4086008903415608, 0.4086008903415608, 0.4086008903415608, 0.4086008903415608, 0.4086008903415608, 0.4086008903415608, 0.4086008903415608, 0.4086008903415608, 0.4086008903415608, 0.4086008903415608, 0.4086008903415608, 0.4086008903415608, 0.4086008903415608, 0.4086008903415608, 0.4086008903415608, 0.4086008903415608, 0.4086008903415608, 0.4086008903415608, 0.4086008903415608, 0.4086008903415608, 0.4086008903415608, 0.4086008903415608, 0.4086008903415608, 0.4086008903415608, 0.4086008903415608, 0.4086008903415608, 0.4086008903415608, 0.4086008903415608, 0.4086008903415608, 0.4086008903415608, 0.4086008903415608, 0.4086008903415608, 0.4086008903415608, 0.4086008903415608, 0.4086008903415608, 0.4086008903415608, 0.4086008903415608, 0.4086008903415608, 0.4086008903415608, 0.4086008903415608, 0.4086008903415608, 0.4086008903415608, 0.4086008903415608, 0.4086008903415608, 0.4086008903415608, 0.4086008903415608, 0.4086008903415608, 0.4086008903415608, 0.4086008903415608, 0.4086008903415608, 0.4086008903415608, 0.4086008903415608, 0.4086008903415608, 0.4086008903415608, 0.4086008903415608, 0.4086008903415608, 0.4086008903415608, 0.4086008903415608, 0.4086008903415608, 0.4086008903415608, 0.4086008903415608, 0.4086008903415608, 0.4086008903415608, 0.4086008903415608, 0.4086008903415608, 0.4086008903415608, 0.4086008903415608, 0.4086008903415608, 0.4086008903415608, 0.4086008903415608, 0.4086008903415608, 0.4086008903415608, 0.4086008903415608, 0.4086008903415608, 0.4086008903415608, 0.4086008903415608, 0.4086008903415608, 0.4086008903415608, 0.4086008903415608, 0.4086008903415608, 0.4086008903415608, 0.4086008903415608, 0.4086008903415608, 0.4086008903415608, 0.4086008903415608, 0.4086008903415608, 0.4086008903415608, 0.4086008903415608, 0.4086008903415608, 0.4086008903415608, 0.4086008903415608, 0.4086008903415608, 0.4086008903415608, 0.4086008903415608, 0.4086008903415608, 0.4086008903415608, 0.4086008903415608, 0.4086008903415608, 0.4086008903415608, 0.4086008903415608, 0.4086008903415608, 0.4086008903415608, 0.4086008903415608, 0.4086008903415608, 0.4086008903415608, 0.4086008903415608, 0.4086008903415608, 0.4086008903415608, 0.4086008903415608, 0.4086008903415608, 0.4086008903415608, 0.4086008903415608, 0.4086008903415608, 0.4086008903415608, 0.4086008903415608, 0.4086008903415608, 0.4086008903415608, 0.4086008903415608, 0.4086008903415608, 0.4086008903415608, 0.4086008903415608, 0.4086008903415608, 0.4086008903415608, 0.4086008903415608, 0.4086008903415608, 0.4086008903415608, 0.4086008903415608, 0.4086008903415608, 0.4086008903415608, 0.4086008903415608, 0.4086008903415608, 0.4086008903415608, 0.4086008903415608, 0.4086008903415608, 0.4086008903415608, 0.4086008903415608, 0.4086008903415608, 0.4086008903415608, 0.4086008903415608, 0.4086008903415608, 0.4086008903415608, 0.4086008903415608, 0.4086008903415608, 0.4086008903415608, 0.4086008903415608, 0.4086008903415608, 0.4086008903415608, 0.4086008903415608, 0.4086008903415608, 0.4086008903415608, 0.4086008903415608, 0.4086008903415608, 0.4086008903415608, 0.4086008903415608, 0.4086008903415608, 0.4086008903415608, 0.4086008903415608, 0.4086008903415608, 0.4086008903415608, 0.4086008903415608, 0.4086008903415608, 0.4086008903415608, 0.4086008903415608, 0.4086008903415608, 0.4086008903415608, 0.4086008903415608, 0.4086008903415608, 0.4086008903415608, 0.4086008903415608, 0.4086008903415608, 0.4086008903415608, 0.4086008903415608, 0.4086008903415608, 0.4086008903415608, 0.4086008903415608, 0.4086008903415608, 0.4086008903415608, 0.4086008903415608, 0.4086008903415608, 0.4086008903415608, 0.4086008903415608, 0.4086008903415608, 0.4086008903415608, 0.4086008903415608, 0.4086008903415608, 0.4086008903415608, 0.4086008903415608, 0.4086008903415608, 0.4086008903415608, 0.4086008903415608, 0.4086008903415608, 0.4086008903415608, 0.4086008903415608, 0.4086008903415608, 0.4086008903415608, 0.4086008903415608, 0.4086008903415608, 0.4086008903415608, 0.4086008903415608, 0.4086008903415608, 0.4086008903415608, 0.4086008903415608, 0.4086008903415608, 0.4086008903415608, 0.4086008903415608, 0.4086008903415608, 0.4086008903415608, 0.4086008903415608, 0.4086008903415608, 0.4086008903415608, 0.4086008903415608, 0.4086008903415608, 0.4086008903415608, 0.4086008903415608, 0.4086008903415608, 0.4086008903415608, 0.4086008903415608, 0.4086008903415608, 0.4086008903415608, 0.4086008903415608, 0.4086008903415608, 0.4086008903415608, 0.4086008903415608, 0.4086008903415608, 0.4086008903415608, 0.4086008903415608, 0.4086008903415608, 0.4086008903415608, 0.4086008903415608, 0.4086008903415608, 0.4086008903415608, 0.4086008903415608, 0.4086008903415608, 0.4086008903415608, 0.4086008903415608, 0.4086008903415608, 0.4086008903415608, 0.4086008903415608, 0.4086008903415608, 0.4086008903415608, 0.4086008903415608, 0.4086008903415608, 0.4086008903415608, 0.4086008903415608, 0.4086008903415608, 0.4086008903415608, 0.4086008903415608, 0.4086008903415608, 0.4086008903415608, 0.4086008903415608, 0.4086008903415608, 0.4086008903415608, 0.4086008903415608, 0.4086008903415608, 0.4086008903415608, 0.4086008903415608, 0.4086008903415608, 0.4086008903415608, 0.4086008903415608, 0.4086008903415608, 0.4086008903415608, 0.4086008903415608, 0.4086008903415608, 0.4086008903415608, 0.4086008903415608, 0.4086008903415608, 0.4086008903415608, 0.4086008903415608, 0.4086008903415608, 0.4086008903415608, 0.4086008903415608, 0.4086008903415608, 0.4086008903415608, 0.4086008903415608, 0.4086008903415608, 0.4086008903415608, 0.4086008903415608, 0.4086008903415608, 0.4086008903415608, 0.4086008903415608, 0.4086008903415608, 0.4086008903415608, 0.4086008903415608, 0.4086008903415608, 0.4086008903415608, 0.4086008903415608, 0.4086008903415608, 0.4086008903415608, 0.4086008903415608, 0.4086008903415608, 0.4086008903415608, 0.4086008903415608, 0.4086008903415608, 0.4086008903415608, 0.4086008903415608, 0.4086008903415608, 0.4086008903415608, 0.4086008903415608, 0.4086008903415608, 0.4086008903415608, 0.4086008903415608, 0.4086008903415608, 0.4086008903415608, 0.4086008903415608, 0.4086008903415608, 0.4086008903415608, 0.4086008903415608, 0.4086008903415608, 0.4086008903415608, 0.4086008903415608, 0.4086008903415608, 0.4086008903415608, 0.4086008903415608, 0.4086008903415608, 0.4086008903415608, 0.4086008903415608, 0.4086008903415608, 0.4086008903415608, 0.4086008903415608, 0.4086008903415608, 0.4086008903415608, 0.4086008903415608, 0.4086008903415608, 0.4086008903415608, 0.4086008903415608, 0.4086008903415608, 0.4086008903415608, 0.4086008903415608, 0.4086008903415608, 0.4086008903415608, 0.4086008903415608, 0.4086008903415608, 0.4086008903415608, 0.4086008903415608, 0.4086008903415608, 0.4086008903415608, 0.4086008903415608, 0.4086008903415608, 0.4086008903415608, 0.4086008903415608, 0.4086008903415608, 0.4086008903415608, 0.4086008903415608, 0.4086008903415608, 0.4086008903415608, 0.4086008903415608, 0.4086008903415608, 0.4086008903415608, 0.4086008903415608, 0.4086008903415608, 0.4086008903415608, 0.4086008903415608, 0.4086008903415608, 0.4086008903415608, 0.4086008903415608, 0.4086008903415608, 0.4086008903415608, 0.4086008903415608, 0.4086008903415608, 0.4086008903415608, 0.4086008903415608, 0.4086008903415608, 0.4086008903415608, 0.4086008903415608, 0.4086008903415608, 0.4086008903415608, 0.4086008903415608, 0.4086008903415608, 0.4086008903415608, 0.4086008903415608, 0.4086008903415608, 0.4086008903415608, 0.4086008903415608, 0.4086008903415608, 0.4086008903415608, 0.4086008903415608, 0.4086008903415608, 0.4086008903415608, 0.4086008903415608, 0.4086008903415608, 0.4086008903415608, 0.4086008903415608, 0.4086008903415608, 0.4086008903415608, 0.4086008903415608, 0.4086008903415608, 0.4086008903415608, 0.4086008903415608, 0.4086008903415608, 0.4086008903415608, 0.4086008903415608, 0.4086008903415608, 0.4086008903415608, 0.4086008903415608, 0.4086008903415608, 0.4086008903415608, 0.4086008903415608, 0.4086008903415608, 0.4086008903415608, 0.4086008903415608, 0.4086008903415608, 0.4086008903415608, 0.4086008903415608, 0.4086008903415608, 0.4086008903415608, 0.4086008903415608, 0.4086008903415608, 0.4086008903415608, 0.4086008903415608, 0.4086008903415608, 0.4086008903415608, 0.4086008903415608, 0.4086008903415608, 0.4086008903415608, 0.4086008903415608, 0.4086008903415608, 0.4086008903415608, 0.4086008903415608, 0.4086008903415608, 0.4086008903415608, 0.4086008903415608, 0.4086008903415608, 0.4086008903415608, 0.4086008903415608, 0.4086008903415608, 0.4086008903415608, 0.4086008903415608, 0.4086008903415608, 0.4086008903415608, 0.4086008903415608, 0.4086008903415608, 0.4086008903415608, 0.4086008903415608, 0.4086008903415608, 0.4086008903415608, 0.4086008903415608, 0.4086008903415608, 0.4086008903415608, 0.4086008903415608, 0.4086008903415608, 0.4086008903415608, 0.4086008903415608, 0.4086008903415608, 0.4086008903415608, 0.4086008903415608, 0.4086008903415608, 0.4086008903415608, 0.4086008903415608, 0.4086008903415608, 0.4086008903415608, 0.4086008903415608, 0.4086008903415608, 0.4086008903415608, 0.4086008903415608, 0.4086008903415608, 0.4086008903415608, 0.4086008903415608, 0.4086008903415608, 0.4086008903415608, 0.4086008903415608, 0.4086008903415608, 0.4086008903415608, 0.4086008903415608, 0.4086008903415608, 0.4086008903415608, 0.4086008903415608, 0.4086008903415608, 0.4086008903415608, 0.4086008903415608, 0.4086008903415608, 0.4086008903415608, 0.4086008903415608, 0.4086008903415608, 0.4086008903415608, 0.4086008903415608, 0.4086008903415608, 0.4086008903415608, 0.4086008903415608, 0.4086008903415608, 0.4086008903415608, 0.4086008903415608, 0.4086008903415608, 0.4086008903415608, 0.4086008903415608, 0.4086008903415608, 0.4086008903415608, 0.4086008903415608, 0.4086008903415608, 0.4086008903415608, 0.4086008903415608, 0.4086008903415608, 0.4086008903415608, 0.4086008903415608, 0.4086008903415608, 0.4086008903415608, 0.4086008903415608, 0.4086008903415608, 0.4086008903415608, 0.4086008903415608, 0.4086008903415608, 0.4086008903415608, 0.4086008903415608, 0.4086008903415608, 0.4086008903415608, 0.4086008903415608, 0.4086008903415608, 0.4086008903415608, 0.4086008903415608, 0.4086008903415608, 0.4086008903415608, 0.4086008903415608, 0.4086008903415608, 0.4086008903415608, 0.4086008903415608, 0.4086008903415608, 0.4086008903415608, 0.4086008903415608, 0.4086008903415608, 0.4086008903415608, 0.4086008903415608, 0.4086008903415608, 0.4086008903415608, 0.4086008903415608, 0.4086008903415608, 0.4086008903415608, 0.4086008903415608, 0.4086008903415608, 0.4086008903415608, 0.4086008903415608, 0.4086008903415608, 0.4086008903415608, 0.4086008903415608, 0.4086008903415608]\n",
      "Solution exacte : [0.5 1.  0.5]\n",
      "Nombre d'itérations : 1000\n"
     ]
    }
   ],
   "execution_count": 9
  }
 ],
 "metadata": {
  "kernelspec": {
   "display_name": "Python 3",
   "language": "python",
   "name": "python3"
  },
  "language_info": {
   "codemirror_mode": {
    "name": "ipython",
    "version": 2
   },
   "file_extension": ".py",
   "mimetype": "text/x-python",
   "name": "python",
   "nbconvert_exporter": "python",
   "pygments_lexer": "ipython2",
   "version": "2.7.6"
  }
 },
 "nbformat": 4,
 "nbformat_minor": 5
}
