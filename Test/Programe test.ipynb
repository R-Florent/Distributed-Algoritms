{
 "cells": [
  {
   "metadata": {},
   "cell_type": "markdown",
   "source": [
    "In the graph above, the two lines represent the linear equations:\n",
    "\n",
    "#### 1 :  2x+y=4 (in blue)\n",
    "#### 2 :  x−y=1 (in red)\n",
    "\n",
    "The blue point represents a solution from line 1 (at 𝑥 = 2x=2).\n",
    " To project this point onto the second line (line 2), we use vector projection. The green point represents the projection of the blue point onto line 2.\n",
    "\n",
    "In summary, projecting a point onto a line means finding the closest point on that line to the given point. This method is often used in optimization algorithms, like in your case, where the projected result is used to refine the solution across constraints."
   ],
   "id": "2a013120a09cd684"
  },
  {
   "metadata": {},
   "cell_type": "markdown",
   "source": "Pour résoudre un système d'équations linéaires avec des agents, on peut utiliser des techniques de calcul distribué ou algorithmes itératifs distribués. Chaque agent possède une partie de l'information (ici, une équation), et ils vont coopérer pour trouver la solution globale sans avoir une vue complète de toutes les équations.",
   "id": "f26b4235ee5a9338"
  },
  {
   "metadata": {},
   "cell_type": "markdown",
   "source": "",
   "id": "4dcbb31ad9a09a49"
  },
  {
   "metadata": {
    "ExecuteTime": {
     "end_time": "2024-10-02T13:48:49.533816Z",
     "start_time": "2024-10-02T13:48:49.502441Z"
    }
   },
   "cell_type": "code",
   "source": [
    "import numpy as np\n",
    "\n",
    "A = np.array([[4, 1, 2],\n",
    "              [3, 5, 1],\n",
    "              [1, 1, 3]])\n",
    "\n",
    "b = np.array([4, 7, 3])\n",
    "\n",
    "x = np.random.rand(3)  # x1, x2, x3 initialisés aléatoirement\n",
    "\n",
    "# Paramètres pour l'algorithme itératif\n",
    "tolerance = 1e-6\n",
    "max_iterations = 1000\n",
    "alpha = 0.9\n",
    "\n",
    "print(\"Les valeurs initiales des inconnues sont\", x)\n",
    "\n",
    "def KacZmarg(matrice_A, matrice_b, inconnue, max_iterations, alpha, tolerance):\n",
    "    n = len(matrice_b)\n",
    "    for iteration in range(max_iterations):\n",
    "        x_old = inconnue.copy()  # Conserver les anciennes valeurs pour la vérification de convergence\n",
    "        for i in range(n):\n",
    "            transposer_a = 0\n",
    "            norme = 0\n",
    "            # Boucle à travers chaque élément de la ligne\n",
    "            for j, element in enumerate(matrice_A[i]):\n",
    "                transposer_a += element * inconnue[j]  # On utilise j comme index ici\n",
    "                norme += element * element\n",
    "                #print(f\"Inconnue[{j}] = {inconnue[j]}\")\n",
    "            # Mise à jour de l'inconnue\n",
    "            inconnue += alpha * (matrice_b[i] - transposer_a) / norme * matrice_A[i]\n",
    "        \n",
    "        # Vérifier la convergence\n",
    "        if np.linalg.norm(inconnue - x_old) < tolerance:\n",
    "            #print(f\"Convergence atteinte après {iteration+1} itérations.\")\n",
    "            loop = iteration\n",
    "            break\n",
    "    \n",
    "    \n",
    "    \n",
    "    \n",
    "    return inconnue,loop\n",
    "\n",
    "# Appliquer l'algorithme de Kaczmarz\n",
    "resultat,iter = KacZmarg(A, b, x, max_iterations, alpha, tolerance)\n",
    "\n",
    "print(\"Le résultat final des inconnues est :\", resultat,iter)"
   ],
   "id": "6456ceaf9faa915c",
   "outputs": [
    {
     "name": "stdout",
     "output_type": "stream",
     "text": [
      "Les valeurs initiales des inconnues sont [0.35401149 0.46659325 0.52925547]\n"
     ]
    },
    {
     "ename": "NameError",
     "evalue": "name 'iteration' is not defined",
     "output_type": "error",
     "traceback": [
      "\u001B[1;31m---------------------------------------------------------------------------\u001B[0m",
      "\u001B[1;31mNameError\u001B[0m                                 Traceback (most recent call last)",
      "Cell \u001B[1;32mIn[5], line 44\u001B[0m\n\u001B[0;32m     41\u001B[0m \u001B[38;5;66;03m# Appliquer l'algorithme de Kaczmarz\u001B[39;00m\n\u001B[0;32m     42\u001B[0m resultat \u001B[38;5;241m=\u001B[39m KacZmarg(A, b, x, max_iterations, alpha, tolerance)\n\u001B[1;32m---> 44\u001B[0m \u001B[38;5;28mprint\u001B[39m(\u001B[38;5;124m\"\u001B[39m\u001B[38;5;124mLe résultat final des inconnues est :\u001B[39m\u001B[38;5;124m\"\u001B[39m, resultat,iteration)\n",
      "\u001B[1;31mNameError\u001B[0m: name 'iteration' is not defined"
     ]
    }
   ],
   "execution_count": 5
  },
  {
   "metadata": {
    "ExecuteTime": {
     "end_time": "2024-11-05T09:36:11.259962Z",
     "start_time": "2024-11-05T09:36:10.958213Z"
    }
   },
   "cell_type": "code",
   "source": [
    "import numpy as np\n",
    "\n",
    "def generer_systeme_lineaire(nb_variables, nb_equations):\n",
    "    \"\"\"\n",
    "    Génère un système linéaire valide (A, b) de nb_equations équations et nb_variables variables.\n",
    "    \"\"\"\n",
    "    # 1. Générer une solution aléatoire\n",
    "    solution = np.random.randint(-10, 10, size=(nb_variables, 1))\n",
    "    \n",
    "    # 2. Générer une matrice A de taille nb_equations x nb_variables avec un rang maximal\n",
    "    while True:\n",
    "        A = np.random.randint(-10, 10, size=(nb_equations, nb_variables))\n",
    "        # Vérifier que le rang est maximal (pour garantir l'indépendance linéaire)\n",
    "        if np.linalg.matrix_rank(A) == nb_variables:\n",
    "            break\n",
    "    \n",
    "    # 3. Calculer le vecteur constant b pour garantir que le système a une solution\n",
    "    b = A @ solution\n",
    "    \n",
    "    return A, b, solution\n",
    "\n",
    "# Exemple d'utilisation :\n",
    "nb_variables = 3\n",
    "nb_equations = 3\n",
    "A, b, solution = generer_systeme_lineaire(nb_variables, nb_equations)\n",
    "\n",
    "print(\"Matrice des coefficients A :\")\n",
    "print(A)\n",
    "print(\"\\nVecteur constant b :\")\n",
    "print(b)\n",
    "print(\"\\nSolution générée :\")\n",
    "print(solution)\n"
   ],
   "id": "23f7d6d571377bd7",
   "outputs": [
    {
     "name": "stdout",
     "output_type": "stream",
     "text": [
      "Matrice des coefficients A :\n",
      "[[ -8  -3  -1]\n",
      " [ -9  -2  -8]\n",
      " [-10   8  -3]]\n",
      "\n",
      "Vecteur constant b :\n",
      "[[61]\n",
      " [26]\n",
      " [-3]]\n",
      "\n",
      "Solution générée :\n",
      "[[-6]\n",
      " [-6]\n",
      " [ 5]]\n"
     ]
    }
   ],
   "execution_count": 1
  },
  {
   "metadata": {
    "ExecuteTime": {
     "end_time": "2024-11-05T10:08:39.528399Z",
     "start_time": "2024-11-05T10:08:39.496050Z"
    }
   },
   "cell_type": "code",
   "source": [
    "import numpy as np\n",
    "\n",
    "def generate_linear_systems(num_systems, matrix_size, min_val=-10, max_val=10):\n",
    "    \"\"\"\n",
    "    Génère un ensemble de systèmes linéaires de la forme Ax = b.\n",
    "\n",
    "    Parameters:\n",
    "    - num_systems (int): Le nombre de systèmes linéaires à générer.\n",
    "    - matrix_size (int): La taille de la matrice carrée A (ex. 3 pour une matrice 3x3).\n",
    "    - min_val (int): La valeur minimale pour les éléments de A et b (défaut: -10).\n",
    "    - max_val (int): La valeur maximale pour les éléments de A et b (défaut: 10).\n",
    "\n",
    "    Returns:\n",
    "    - List[Tuple[np.ndarray, np.ndarray]]: Une liste de tuples où chaque tuple contient\n",
    "      une matrice A et un vecteur b pour un système linéaire.\n",
    "    \"\"\"\n",
    "    systems = []\n",
    "    for _ in range(num_systems):\n",
    "        # Génère une matrice A de taille `matrix_size` x `matrix_size` avec des valeurs aléatoires\n",
    "        A = np.random.randint(min_val, max_val, size=(matrix_size, matrix_size))\n",
    "        \n",
    "        # Vérifie si la matrice est inversible (i.e. déterminant non nul)\n",
    "        if np.linalg.det(A) == 0:\n",
    "            # Si non inversible, on régénère la matrice A\n",
    "            while np.linalg.det(A) == 0:\n",
    "                A = np.random.randint(min_val, max_val, size=(matrix_size, matrix_size))\n",
    "        \n",
    "        # Génère un vecteur b de taille `matrix_size` avec des valeurs aléatoires\n",
    "        b = np.random.randint(min_val, max_val, size=(matrix_size,))\n",
    "        \n",
    "        systems.append((A, b))\n",
    "    \n",
    "    return systems\n",
    "\n",
    "# Exemple d'utilisation : génère 5 systèmes linéaires de matrices 3x3\n",
    "systems = generate_linear_systems(num_systems=5, matrix_size=3)\n",
    "for i, (A, b) in enumerate(systems):\n",
    "    print(f\"Système {i+1}:\")\n",
    "    print(\"A =\\n\", A)\n",
    "    print(\"b =\", b)\n",
    "    print(\"-\" * 30)\n"
   ],
   "id": "49c37a4944765fb2",
   "outputs": [
    {
     "name": "stdout",
     "output_type": "stream",
     "text": [
      "Système 1:\n",
      "A =\n",
      " [[-8 -4  4]\n",
      " [ 0 -2  6]\n",
      " [ 9 -8 -4]]\n",
      "b = [4 3 1]\n",
      "------------------------------\n",
      "Système 2:\n",
      "A =\n",
      " [[  3   0  -8]\n",
      " [  4   2  -7]\n",
      " [  8   9 -10]]\n",
      "b = [6 9 0]\n",
      "------------------------------\n",
      "Système 3:\n",
      "A =\n",
      " [[  1   1  -1]\n",
      " [ -3   3   6]\n",
      " [  7 -10   3]]\n",
      "b = [-1 -7 -5]\n",
      "------------------------------\n",
      "Système 4:\n",
      "A =\n",
      " [[  2   9  -6]\n",
      " [  5   1  -2]\n",
      " [ -9 -10   0]]\n",
      "b = [-1  7  5]\n",
      "------------------------------\n",
      "Système 5:\n",
      "A =\n",
      " [[ 8 -3 -8]\n",
      " [-8 -1 -8]\n",
      " [ 2  0 -6]]\n",
      "b = [-6  1 -2]\n",
      "------------------------------\n"
     ]
    }
   ],
   "execution_count": 4
  },
  {
   "metadata": {
    "ExecuteTime": {
     "end_time": "2024-11-06T09:44:28.065523Z",
     "start_time": "2024-11-06T09:44:25.906154Z"
    }
   },
   "cell_type": "code",
   "source": [
    "import numpy as np\n",
    "import json\n",
    "import os\n",
    "\n",
    "# Dossier pour stocker les graphiques\n",
    "if not os.path.exists(\"graphs\"):\n",
    "    os.makedirs(\"graphs\")\n",
    "\n",
    "# Nombre de systèmes à générer\n",
    "num_systems = 7\n",
    "systems = []\n",
    "\n",
    "\n",
    "# Génération de systèmes de taille croissante et stockage\n",
    "for i in range(3, 10):\n",
    "    A = np.random.rand(i, i)\n",
    "    b = np.random.rand(i)\n",
    "\n",
    "    # Stockage des données dans un dictionnaire\n",
    "    system_data = {\n",
    "        \"A\": A.tolist(),\n",
    "        \"b\": b.tolist(),\n",
    "        \"solution\": solution.tolist(),\n",
    "    }\n",
    "    systems.append(system_data)\n",
    "\n",
    "# Stockage de tous les systèmes dans un fichier JSON\n",
    "with open(\"systems_data.json\", \"w\") as f:\n",
    "    json.dump(systems, f, indent=4)\n",
    "\n",
    "print(\"Les systèmes et les graphiques associés ont été stockés avec succès.\")\n"
   ],
   "id": "eb518e1a3441a534",
   "outputs": [
    {
     "name": "stdout",
     "output_type": "stream",
     "text": [
      "Les systèmes et les graphiques associés ont été stockés avec succès.\n"
     ]
    }
   ],
   "execution_count": 2
  },
  {
   "metadata": {
    "ExecuteTime": {
     "end_time": "2024-12-05T11:19:29.329844Z",
     "start_time": "2024-12-05T11:19:29.316923Z"
    }
   },
   "cell_type": "code",
   "source": [
    "import numpy as np\n",
    "n = 2\n",
    "\n",
    "# res = np.random.rand(2,1)\n",
    "# np.ones((n, n))\n",
    "# print(np.ones((n, n)))\n",
    "\n",
    "max_iterations = 6\n",
    "cons_err2 = np.zeros((max_iterations+1,n))\n",
    "print(cons_err2)"
   ],
   "id": "d69a098509f467c9",
   "outputs": [
    {
     "name": "stdout",
     "output_type": "stream",
     "text": [
      "[[0. 0.]\n",
      " [0. 0.]\n",
      " [0. 0.]\n",
      " [0. 0.]\n",
      " [0. 0.]\n",
      " [0. 0.]\n",
      " [0. 0.]]\n"
     ]
    }
   ],
   "execution_count": 14
  },
  {
   "metadata": {
    "ExecuteTime": {
     "end_time": "2024-12-05T12:31:09.457472Z",
     "start_time": "2024-12-05T12:31:09.452751Z"
    }
   },
   "cell_type": "code",
   "source": [
    "A = np.random.rand(n, n)\n",
    "print(A)\n",
    "size = A.shape[0]\n",
    "print(size)"
   ],
   "id": "edd812146bbbd6b",
   "outputs": [
    {
     "name": "stdout",
     "output_type": "stream",
     "text": [
      "[[0.93467477 0.84926333]\n",
      " [0.7990969  0.24156699]]\n",
      "2\n"
     ]
    }
   ],
   "execution_count": 18
  },
  {
   "metadata": {
    "ExecuteTime": {
     "end_time": "2024-12-09T09:56:01.571963Z",
     "start_time": "2024-12-09T09:32:55.400230Z"
    }
   },
   "cell_type": "code",
   "source": [
    "import numpy as np\n",
    "import json\n",
    "import time\n",
    "import matplotlib.pyplot as plt\n",
    "\n",
    "# Projection utilisée dans l'algorithme\n",
    "def projection(A, b, x):\n",
    "    return x - (np.dot(A, x) - b) / max(np.dot(A, A.T), 1e-9) * A\n",
    "\n",
    "# Fonction pour générer une matrice de pondération W (symétrique)\n",
    "def matrice_W(n):\n",
    "    W = np.eye(n) * 0.5\n",
    "    for i in range(n - 1):\n",
    "        W[i, i + 1] = 0.25\n",
    "        W[i + 1, i] = 0.25\n",
    "    return W\n",
    "\n",
    "# Fonction calculant les erreurs locales\n",
    "def local_error(A, b, X, W, n):\n",
    "    err = np.zeros(n)\n",
    "    disagree = np.zeros(n)\n",
    "\n",
    "    for i in range(n):\n",
    "        err[i] = abs(np.dot(A[i, :], X[:, i]) - b[i])\n",
    "\n",
    "    for i in range(n):\n",
    "        for j in range(n):\n",
    "            if W[i, j] > 0.0:\n",
    "                disagree[i] = max(disagree[i], np.linalg.norm(X[:, i] - X[:, j]))\n",
    "    return err, disagree\n",
    "\n",
    "# Algorithme principal\n",
    "def inertial_projected_consensus_algorithm(A, b, max_iterations=10000, tol=1e-5):\n",
    "    n = len(b)\n",
    "    X_init = 2.0 * np.random.rand(n, n) - np.ones((n, n))\n",
    "    X_i = X_init\n",
    "    Y = np.zeros((n, n))\n",
    "    W = matrice_W(n)\n",
    "    theta = np.zeros(n)\n",
    "    step = np.full(n, float('inf'))\n",
    "    eps = 1e-9\n",
    "\n",
    "    iter = 0\n",
    "    eqn_err, cons_err = np.inf, np.inf\n",
    "    while iter < max_iterations:\n",
    "        iter += 1\n",
    "        for i in range(n):\n",
    "            X_i[:, i] = projection(A[i, :].T, b[i], X_i[:, i])\n",
    "        X_i = np.dot(X_i, W)\n",
    "\n",
    "        for i in range(n):\n",
    "            Y[:, i] = projection(A[i, :].T, b[i], X_i[:, i])\n",
    "        Y = np.dot(Y, W)\n",
    "\n",
    "        for i in range(n):\n",
    "            if abs(np.dot(A[i, :], Y[:, i] - X_i[:, i])) < eps:\n",
    "                theta[i] = float('inf')\n",
    "            else:\n",
    "                theta[i] = (np.dot(A[i, :], X_i[:, i]) - b[i]) / np.dot(A[i, :], X_i[:, i] - Y[:, i])\n",
    "\n",
    "        for i in range(n):\n",
    "            for j in range(n):\n",
    "                if W[i, j] > 0.0 and theta[j] > eps and theta[j] < step[i]:\n",
    "                    step[i] = theta[j]\n",
    "            if step[i] < float('inf'):\n",
    "                step[i] = 1.5 * step[i]\n",
    "                X_i[:, i] = X_i[:, i] + step[i] * (Y[:, i] - X_i[:, i])\n",
    "        X_i = np.dot(X_i, W)\n",
    "\n",
    "        eqn_err, cons_err = local_error(A, b, X_i, W, n)\n",
    "        if max(eqn_err) < tol and max(cons_err) < tol:\n",
    "            break\n",
    "\n",
    "    return iter\n",
    "\n",
    "# Chargement des données JSON\n",
    "with open(\"../ressource/System_of_linear_equations/systems_data_3x3_to_10x10.json\", \"r\") as f:\n",
    "    systems_data = json.load(f)\n",
    "\n",
    "# Variables pour stocker les résultats\n",
    "condition_numbers = []\n",
    "execution_times = []\n",
    "\n",
    "# Boucle sur tous les systèmes dans le fichier JSON\n",
    "for system in systems_data:\n",
    "    A = np.array(system[\"A\"])\n",
    "    b = np.array(system[\"b\"])\n",
    "\n",
    "    # Calcul du nombre de condition de A\n",
    "    cond_number = np.linalg.cond(A)\n",
    "    condition_numbers.append(cond_number)\n",
    "\n",
    "    # Mesure du temps d'exécution\n",
    "    start_time = time.time()\n",
    "    inertial_projected_consensus_algorithm(A, b)\n",
    "    exec_time = time.time() - start_time\n",
    "    execution_times.append(exec_time)\n",
    "\n",
    "# Visualisation des résultats\n",
    "plt.figure(figsize=(10, 6))\n",
    "plt.scatter(condition_numbers, execution_times, color=\"blue\", alpha=0.7)\n",
    "plt.title(\"Relation entre le temps d'exécution et le nombre de condition de la matrice\")\n",
    "plt.xlabel(\"Nombre de condition (cond(A))\")\n",
    "plt.ylabel(\"Temps d'exécution (secondes)\")\n",
    "plt.grid(True)\n",
    "plt.show()\n"
   ],
   "id": "da9d34256535c880",
   "outputs": [
    {
     "name": "stderr",
     "output_type": "stream",
     "text": [
      "C:\\Users\\t-lab\\AppData\\Local\\Temp\\ipykernel_13860\\301913395.py:67: RuntimeWarning: overflow encountered in multiply\n",
      "  X_i[:, i] = X_i[:, i] + step[i] * (Y[:, i] - X_i[:, i])\n",
      "C:\\Users\\t-lab\\AppData\\Local\\Temp\\ipykernel_13860\\301913395.py:29: RuntimeWarning: invalid value encountered in subtract\n",
      "  disagree[i] = max(disagree[i], np.linalg.norm(X[:, i] - X[:, j]))\n",
      "C:\\Users\\t-lab\\AppData\\Local\\Temp\\ipykernel_13860\\301913395.py:8: RuntimeWarning: invalid value encountered in subtract\n",
      "  return x - (np.dot(A, x) - b) / max(np.dot(A, A.T), 1e-9) * A\n",
      "C:\\Users\\t-lab\\AppData\\Local\\Temp\\ipykernel_13860\\301913395.py:66: RuntimeWarning: overflow encountered in scalar multiply\n",
      "  step[i] = 1.5 * step[i]\n"
     ]
    },
    {
     "data": {
      "text/plain": [
       "<Figure size 1000x600 with 1 Axes>"
      ],
      "image/png": "[encoded data removed]"
     },
     "metadata": {},
     "output_type": "display_data"
    }
   ],
   "execution_count": 1
  },
  {
   "metadata": {
    "ExecuteTime": {
     "end_time": "2024-12-10T04:27:26.762944Z",
     "start_time": "2024-12-10T04:03:15.993954Z"
    }
   },
   "cell_type": "code",
   "source": [
    "import numpy as np\n",
    "import json\n",
    "import time\n",
    "import matplotlib.pyplot as plt\n",
    "\n",
    "# Fonction de projection utilisée dans l'algorithme\n",
    "def projection(A, b, x):\n",
    "    return x - (np.dot(A, x) - b) / max(np.dot(A, A.T), 1e-9) * A\n",
    "\n",
    "# Fonction pour générer une matrice de pondération W (symétrique)\n",
    "def matrice_W(n):\n",
    "    W = np.eye(n) * 0.5\n",
    "    for i in range(n - 1):\n",
    "        W[i, i + 1] = 0.25\n",
    "        W[i + 1, i] = 0.25\n",
    "    return W\n",
    "\n",
    "# Fonction de convergence\n",
    "def has_converged(x, x_old, tolerance):\n",
    "    return np.linalg.norm(x - x_old) < tolerance\n",
    "\n",
    "# Algorithme principal modifié\n",
    "def inertial_projected_consensus_algorithm_modified(A, b, max_iterations=10000, tol=1e-5):\n",
    "    n = len(b)\n",
    "    X_init = 2.0 * np.random.rand(n, n) - np.ones((n, n))\n",
    "    X_i = X_init\n",
    "    X_old = np.copy(X_i)\n",
    "    Y = np.zeros((n, n))\n",
    "    W = matrice_W(n)\n",
    "    theta = np.zeros(n)\n",
    "    step = np.full(n, float('inf'))\n",
    "    eps = 1e-9\n",
    "\n",
    "    # Calcul du nombre de condition\n",
    "    cond_number = np.linalg.cond(A)\n",
    "    iter = 0\n",
    "    \n",
    "    eqn_err, cons_err = np.inf, np.inf\n",
    "    while iter < max_iterations:\n",
    "        iter += 1\n",
    "        \n",
    "        # Mise à jour de X\n",
    "        for i in range(n):\n",
    "            X_i[:, i] = projection(A[i, :].T, b[i], X_i[:, i])\n",
    "        X_i = np.dot(X_i, W)\n",
    "\n",
    "        # Mise à jour de Y\n",
    "        for i in range(n):\n",
    "            Y[:, i] = projection(A[i, :].T, b[i], X_i[:, i])\n",
    "        Y = np.dot(Y, W)\n",
    "\n",
    "        # Calcul des paramètres theta\n",
    "        for i in range(n):\n",
    "            if abs(np.dot(A[i, :], Y[:, i] - X_i[:, i])) < eps:\n",
    "                theta[i] = float('inf')\n",
    "            else:\n",
    "                theta[i] = (np.dot(A[i, :], X_i[:, i]) - b[i]) / np.dot(A[i, :], X_i[:, i] - Y[:, i])\n",
    "\n",
    "        # Mise à jour de step et de X\n",
    "        for i in range(n):\n",
    "            for j in range(n):\n",
    "                if W[i, j] > 0.0 and theta[j] > eps and theta[j] < step[i]:\n",
    "                    step[i] = theta[j]\n",
    "            if step[i] < float('inf'):\n",
    "                step[i] = 1.5 * step[i]\n",
    "                X_i[:, i] = X_i[:, i] + step[i] * (Y[:, i] - X_i[:, i])\n",
    "        X_i = np.dot(X_i, W)\n",
    "\n",
    "        # Vérification de la convergence locale\n",
    "        eqn_err, cons_err = local_error(A, b, X_i, W, n)\n",
    "\n",
    "        # Arrêt anticipé basé sur la convergence des itérations\n",
    "        if has_converged(X_i, X_old, tol):\n",
    "            print(f\"Converged in {iter} iterations\")\n",
    "            break\n",
    "        X_old = np.copy(X_i)  # Mettre à jour X_old pour la prochaine itération\n",
    "\n",
    "        # Arrêt basé sur la convergence globale\n",
    "        if max(eqn_err) < tol and max(cons_err) < tol:\n",
    "            print(f\"Converged in {iter} iterations (global tolerance reached)\")\n",
    "            break\n",
    "\n",
    "    return iter\n",
    "\n",
    "# Chargement des données JSON\n",
    "with open(\"../ressource/System_of_linear_equations/systems_data_3x3_to_10x10.json\", \"r\") as f:\n",
    "    systems_data = json.load(f)\n",
    "\n",
    "# Visualisation de la relation entre temps d'exécution et condition number\n",
    "condition_numbers = []\n",
    "execution_times = []\n",
    "\n",
    "for system in systems_data:\n",
    "    A = np.array(system[\"A\"])\n",
    "    b = np.array(system[\"b\"])\n",
    "    \n",
    "    # Calcul du nombre de condition\n",
    "    cond_number = np.linalg.cond(A)\n",
    "    \n",
    "    if cond_number > 500:\n",
    "        pass\n",
    "    \n",
    "    condition_numbers.append(cond_number)\n",
    "\n",
    "    # Mesure du temps d'exécution\n",
    "    start_time = time.time()\n",
    "    inertial_projected_consensus_algorithm_modified(A, b)\n",
    "    exec_time = time.time() - start_time\n",
    "    execution_times.append(exec_time)\n",
    "    print(\"execution_times:\",execution_times,\"condition_numbers:\",condition_numbers,\"iteration\",inertial_projected_consensus_algorithm_modified)\n",
    "# Visualisation\n",
    "plt.figure(figsize=(10, 6))\n",
    "plt.scatter(condition_numbers, execution_times, color=\"green\", alpha=0.7)\n",
    "plt.title(\"Relation entre temps d'exécution et nombre de condition (modifié)\")\n",
    "plt.xlabel(\"Nombre de condition (cond(A))\")\n",
    "plt.ylabel(\"Temps d'exécution (secondes)\")\n",
    "plt.grid(True)\n",
    "plt.show()\n"
   ],
   "id": "ece24d1378a3bc3e",
   "outputs": [
    {
     "name": "stdout",
     "output_type": "stream",
     "text": [
      "Converged in 22 iterations\n"
     ]
    },
    {
     "data": {
      "text/plain": [
       "<Figure size 1000x600 with 1 Axes>"
      ],
      "image/png": "[encoded data removed]"
     },
     "metadata": {},
     "output_type": "display_data"
    }
   ],
   "execution_count": 4
  },
  {
   "metadata": {
    "ExecuteTime": {
     "end_time": "2025-01-06T07:47:06.285958Z",
     "start_time": "2025-01-06T07:47:06.271120Z"
    }
   },
   "cell_type": "code",
   "source": [
    "import numpy as np\n",
    "n=5\n",
    "\n",
    "w = np.ones((n, n)) / n\n",
    "print(w) \n",
    "                                                                         "
   ],
   "id": "ddc0ccd16ab6cf34",
   "outputs": [
    {
     "name": "stdout",
     "output_type": "stream",
     "text": [
      "[[0.2 0.2 0.2 0.2 0.2]\n",
      " [0.2 0.2 0.2 0.2 0.2]\n",
      " [0.2 0.2 0.2 0.2 0.2]\n",
      " [0.2 0.2 0.2 0.2 0.2]\n",
      " [0.2 0.2 0.2 0.2 0.2]]\n"
     ]
    }
   ],
   "execution_count": 4
  },
  {
   "metadata": {},
   "cell_type": "code",
   "outputs": [],
   "execution_count": null,
   "source": "",
   "id": "5621d9e764fcc1c9"
  },
  {
   "metadata": {
    "ExecuteTime": {
     "end_time": "2025-01-06T08:18:34.378431Z",
     "start_time": "2025-01-06T08:18:34.368216Z"
    }
   },
   "cell_type": "code",
   "source": [
    "#Graphe étoile \n",
    "import numpy as np\n",
    "n=5\n",
    "w = np.zeros((n, n))\n",
    "for i in range(1, n):\n",
    "    w[0,i] =1/n-1\n",
    "    w[i,0]=1\n",
    "print(w)"
   ],
   "id": "68c57e87512a05ba",
   "outputs": [
    {
     "name": "stdout",
     "output_type": "stream",
     "text": [
      "[[ 0.  -0.8 -0.8 -0.8 -0.8]\n",
      " [ 1.   0.   0.   0.   0. ]\n",
      " [ 1.   0.   0.   0.   0. ]\n",
      " [ 1.   0.   0.   0.   0. ]\n",
      " [ 1.   0.   0.   0.   0. ]]\n"
     ]
    }
   ],
   "execution_count": 35
  },
  {
   "metadata": {
    "ExecuteTime": {
     "end_time": "2025-01-06T08:49:17.783274Z",
     "start_time": "2025-01-06T08:49:17.768705Z"
    }
   },
   "cell_type": "code",
   "source": [
    "#Graphe path \n",
    "import numpy as np\n",
    "n=5\n",
    "w = np.zeros((n, n))\n",
    "w[0,0] =0.5\n",
    "w[0,1] =0.5\n",
    "w[n-1,n-1] =0.5\n",
    "w[n-1,n-2] =0.5\n",
    "\n",
    "for i in range(1,n-1):\n",
    "    w[i,i+1] =1/2\n",
    "    w[i,i-1] =1/2\n",
    "print(w)"
   ],
   "id": "95fd3c4470219375",
   "outputs": [
    {
     "name": "stdout",
     "output_type": "stream",
     "text": [
      "[[0.5 0.5 0.  0.  0. ]\n",
      " [0.5 0.  0.5 0.  0. ]\n",
      " [0.  0.5 0.  0.5 0. ]\n",
      " [0.  0.  0.5 0.  0.5]\n",
      " [0.  0.  0.  0.5 0.5]]\n"
     ]
    }
   ],
   "execution_count": 45
  },
  {
   "metadata": {
    "ExecuteTime": {
     "end_time": "2025-01-06T08:47:32.919783Z",
     "start_time": "2025-01-06T08:47:32.909368Z"
    }
   },
   "cell_type": "code",
   "source": [
    "#Graphe cyclique \n",
    "import numpy as np\n",
    "n=5\n",
    "w = np.zeros((n, n))\n",
    "for i in range(n):\n",
    "    w[i,i]=1/3\n",
    "    w[i,(i-1)%n]=1/3\n",
    "    w[i,(i+1)%n]=1/3\n",
    "    \n",
    "print(w)"
   ],
   "id": "a8534d4d6f281553",
   "outputs": [
    {
     "name": "stdout",
     "output_type": "stream",
     "text": [
      "[[0.33333333 0.33333333 0.         0.         0.33333333]\n",
      " [0.33333333 0.33333333 0.33333333 0.         0.        ]\n",
      " [0.         0.33333333 0.33333333 0.33333333 0.        ]\n",
      " [0.         0.         0.33333333 0.33333333 0.33333333]\n",
      " [0.33333333 0.         0.         0.33333333 0.33333333]]\n"
     ]
    }
   ],
   "execution_count": 43
  }
 ],
 "metadata": {
  "kernelspec": {
   "display_name": "Python 3",
   "language": "python",
   "name": "python3"
  },
  "language_info": {
   "codemirror_mode": {
    "name": "ipython",
    "version": 2
   },
   "file_extension": ".py",
   "mimetype": "text/x-python",
   "name": "python",
   "nbconvert_exporter": "python",
   "pygments_lexer": "ipython2",
   "version": "2.7.6"
  }
 },
 "nbformat": 4,
 "nbformat_minor": 5
}
